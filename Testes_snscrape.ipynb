{
 "cells": [
  {
   "cell_type": "code",
   "execution_count": 1,
   "id": "34c664d9",
   "metadata": {},
   "outputs": [],
   "source": [
    "import snscrape.modules.twitter as sntwitter\n",
    "import pandas as pd\n",
    "\n",
    "#coronavirus covid 19 covid-19 covid19 corona virus morcego pastel de flango gripe chinesa fica em casa pandemia comer china chines chineses wuhan lockdown vacina\n",
    "\n",
    "#morcego OR china OR coronavirus OR chineses OR pastel de flango OR gripe chinesa OR covid19 OR chines OR covid-19\n",
    "\n",
    "#query = \"coronavirus OR morcego until:2020-03-01 since:2020-03-05 (lang:pt-BR)\"\n",
    "query = \"coronavirus OR covid morcego OR china OR \\\"pastel de flango\\\" OR chineses OR \\\"virus chines\\\" OR \\\"peste chinesa\\\" OR xingling OR \\\"xing ling\\\" until:2020-06-30 since:2020-03-01 (lang:pt-BR)\"\n",
    "tweets = []\n",
    "limit = 5000\n",
    "\n",
    "\n",
    "for tweet in sntwitter.TwitterSearchScraper(query).get_items():\n",
    "    \n",
    "     #print(vars(tweet))\n",
    "     #break\n",
    "    #if len(tweets) == limit:\n",
    "        #break\n",
    "    #else:\n",
    "        tweets.append([tweet.date, tweet.user.username, tweet.content])\n",
    "        \n",
    "df = pd.DataFrame(tweets, columns=['Date', 'User', 'Tweet'])\n",
    "#print(df)\n",
    "\n",
    "df.to_csv('tweets_.csv',encoding='utf-8-sig')"
   ]
  },
  {
   "cell_type": "code",
   "execution_count": 3,
   "id": "d0682a04",
   "metadata": {},
   "outputs": [],
   "source": [
    "query = \"coronavirus OR covid xingling OR \\\"xing ling\\\" OR xing until:2020-06-30 since:2020-03-01 (lang:pt-BR)\"\n",
    "tweets = []\n",
    "limit = 5000\n",
    "\n",
    "\n",
    "for tweet in sntwitter.TwitterSearchScraper(query).get_items():\n",
    "    \n",
    "     #print(vars(tweet))\n",
    "     #break\n",
    "    #if len(tweets) == limit:\n",
    "        #break\n",
    "    #else:\n",
    "        tweets.append([tweet.date, tweet.user.username, tweet.content])\n",
    "        \n",
    "df = pd.DataFrame(tweets, columns=['Date', 'User', 'Tweet'])\n",
    "#print(df)\n",
    "\n",
    "df.to_csv('tweets_xing_ling_OR.csv',encoding='utf-8-sig')"
   ]
  },
  {
   "cell_type": "code",
   "execution_count": 2,
   "id": "7390b02a",
   "metadata": {},
   "outputs": [],
   "source": [
    "import snscrape.modules.twitter as sntwitter\n",
    "import pandas as pd\n",
    "query = \"xingling OR \"\"pastel de flango\"\" until:2020-06-30 since:2020-01-01 (lang:pt-BR)\"\n",
    "#query = \"(from:elonmusk)  until:2010-03-02 since:2020-03-10 \"\n",
    "tweets = []\n",
    "limit = 5000\n",
    "\n",
    "\n",
    "for tweet in sntwitter.TwitterSearchScraper(query).get_items():\n",
    "    \n",
    "     #print(vars(tweet))\n",
    "     #break\n",
    "    #if len(tweets) == limit:\n",
    "        #break\n",
    "    #else:\n",
    "    tweets.append([tweet.date, tweet.user.username, tweet.content])\n",
    "        \n",
    "df = pd.DataFrame(tweets, columns=['Date', 'User', 'Tweet'])\n",
    "#print(df)\n",
    "\n",
    "df.to_csv('tweets_mix.csv')"
   ]
  },
  {
   "cell_type": "code",
   "execution_count": 19,
   "id": "942b663b",
   "metadata": {},
   "outputs": [],
   "source": [
    "query = \"xing ling until:2020-06-30 since:2020-01-01 (lang:pt-BR)\"\n",
    "#query = \"(from:elonmusk)  until:2010-03-02 since:2020-03-10 \"\n",
    "tweets = []\n",
    "limit = 5000\n",
    "\n",
    "\n",
    "for tweet in sntwitter.TwitterSearchScraper(query).get_items():\n",
    "    \n",
    "     #print(vars(tweet))\n",
    "     #break\n",
    "    #if len(tweets) == limit:\n",
    "        #break\n",
    "    #else:\n",
    "    tweets.append([tweet.date, tweet.user.username, tweet.content])\n",
    "        \n",
    "df = pd.DataFrame(tweets, columns=['Date', 'User', 'Tweet'])\n",
    "#print(df)\n",
    "\n",
    "df.to_csv('tweets_xing_ling.csv')"
   ]
  },
  {
   "cell_type": "code",
   "execution_count": null,
   "id": "057cdf4c",
   "metadata": {},
   "outputs": [],
   "source": []
  }
 ],
 "metadata": {
  "kernelspec": {
   "display_name": "Python 3 (ipykernel)",
   "language": "python",
   "name": "python3"
  },
  "language_info": {
   "codemirror_mode": {
    "name": "ipython",
    "version": 3
   },
   "file_extension": ".py",
   "mimetype": "text/x-python",
   "name": "python",
   "nbconvert_exporter": "python",
   "pygments_lexer": "ipython3",
   "version": "3.10.5"
  }
 },
 "nbformat": 4,
 "nbformat_minor": 5
}
