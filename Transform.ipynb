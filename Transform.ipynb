{
 "cells": [
  {
   "cell_type": "code",
   "execution_count": 1,
   "id": "949734e7",
   "metadata": {},
   "outputs": [],
   "source": [
    "import numpy as np\n",
    "import pandas as pd\n",
    "from sklearn.model_selection import train_test_split"
   ]
  },
  {
   "cell_type": "code",
   "execution_count": 2,
   "id": "b79a6d8d",
   "metadata": {},
   "outputs": [],
   "source": [
    "cleaning_data = pd.read_csv('Data/Tweet_Processed_DataCleaning_Done.csv')"
   ]
  },
  {
   "cell_type": "code",
   "execution_count": 3,
   "id": "d7f3bbbc",
   "metadata": {},
   "outputs": [
    {
     "data": {
      "text/html": [
       "<div>\n",
       "<style scoped>\n",
       "    .dataframe tbody tr th:only-of-type {\n",
       "        vertical-align: middle;\n",
       "    }\n",
       "\n",
       "    .dataframe tbody tr th {\n",
       "        vertical-align: top;\n",
       "    }\n",
       "\n",
       "    .dataframe thead th {\n",
       "        text-align: right;\n",
       "    }\n",
       "</style>\n",
       "<table border=\"1\" class=\"dataframe\">\n",
       "  <thead>\n",
       "    <tr style=\"text-align: right;\">\n",
       "      <th></th>\n",
       "      <th>Tweet</th>\n",
       "      <th>Label</th>\n",
       "    </tr>\n",
       "  </thead>\n",
       "  <tbody>\n",
       "    <tr>\n",
       "      <th>0</th>\n",
       "      <td>euedsonduarte lilovlog jairbolsonaro exatamen...</td>\n",
       "      <td>0.0</td>\n",
       "    </tr>\n",
       "    <tr>\n",
       "      <th>1</th>\n",
       "      <td>a china fecha o primeiro laboratorio do mundo ...</td>\n",
       "      <td>0.0</td>\n",
       "    </tr>\n",
       "    <tr>\n",
       "      <th>2</th>\n",
       "      <td>janeiro china mente sobre a de mortos nos caso...</td>\n",
       "      <td>0.0</td>\n",
       "    </tr>\n",
       "    <tr>\n",
       "      <th>3</th>\n",
       "      <td>nivel de poluicao na china cai drasticamente a...</td>\n",
       "      <td>0.0</td>\n",
       "    </tr>\n",
       "    <tr>\n",
       "      <th>4</th>\n",
       "      <td>eikebatista os que cruzam os oceanos trazem u...</td>\n",
       "      <td>0.0</td>\n",
       "    </tr>\n",
       "  </tbody>\n",
       "</table>\n",
       "</div>"
      ],
      "text/plain": [
       "                                               Tweet  Label\n",
       "0   euedsonduarte lilovlog jairbolsonaro exatamen...    0.0\n",
       "1  a china fecha o primeiro laboratorio do mundo ...    0.0\n",
       "2  janeiro china mente sobre a de mortos nos caso...    0.0\n",
       "3  nivel de poluicao na china cai drasticamente a...    0.0\n",
       "4   eikebatista os que cruzam os oceanos trazem u...    0.0"
      ]
     },
     "execution_count": 3,
     "metadata": {},
     "output_type": "execute_result"
    }
   ],
   "source": [
    "cleaning_data.head()"
   ]
  },
  {
   "cell_type": "markdown",
   "id": "d0b8c847",
   "metadata": {},
   "source": [
    "## Bert"
   ]
  },
  {
   "cell_type": "code",
   "execution_count": 4,
   "id": "0c8f3a11",
   "metadata": {},
   "outputs": [],
   "source": [
    "#!pip install transformers"
   ]
  },
  {
   "cell_type": "markdown",
   "id": "cbba9264",
   "metadata": {},
   "source": [
    "### Preparing the train and test"
   ]
  },
  {
   "cell_type": "code",
   "execution_count": 5,
   "id": "b8976bf5",
   "metadata": {},
   "outputs": [],
   "source": [
    "# divinding in train, validation and text\n",
    "x_data = cleaning_data['Tweet']\n",
    "y_data = cleaning_data['Label']\n",
    "x_train, x_test, y_train, y_test = train_test_split(x_data, y_data, test_size=0.2, stratify=y_data, random_state=43)\n",
    "x_train, x_valid, y_train, y_valid = train_test_split(x_train, y_train, test_size=0.2, stratify=y_train, random_state=43)"
   ]
  },
  {
   "cell_type": "markdown",
   "id": "1018ea94",
   "metadata": {},
   "source": [
    "### Tokenization"
   ]
  },
  {
   "cell_type": "code",
   "execution_count": 49,
   "id": "4375a736",
   "metadata": {},
   "outputs": [],
   "source": [
    "import torch\n",
    "from transformers import BertTokenizer, BertForSequenceClassification, AdamW, BertConfig, get_linear_schedule_with_warmup"
   ]
  },
  {
   "cell_type": "code",
   "execution_count": 35,
   "id": "6a977ab5",
   "metadata": {},
   "outputs": [],
   "source": [
    "#pip3 install torch torchvision torchaudio --extra-index-url https://download.pytorch.org/whl/cu116"
   ]
  },
  {
   "cell_type": "code",
   "execution_count": 36,
   "id": "36292763",
   "metadata": {},
   "outputs": [
    {
     "name": "stdout",
     "output_type": "stream",
     "text": [
      "There are 1 GPU(s) available.\n",
      "We will use the GPU: NVIDIA GeForce RTX 3060 Laptop GPU\n"
     ]
    }
   ],
   "source": [
    "if torch.cuda.is_available():    \n",
    "\n",
    "    # Tell PyTorch to use the GPU.    \n",
    "    device = torch.device(\"cuda\")\n",
    "\n",
    "    print('There are %d GPU(s) available.' % torch.cuda.device_count())\n",
    "\n",
    "    print('We will use the GPU:', torch.cuda.get_device_name(0))\n",
    "\n",
    "# If not...\n",
    "else:\n",
    "    print('No GPU available, using the CPU instead.')\n",
    "    device = torch.device(\"cpu\")"
   ]
  },
  {
   "cell_type": "code",
   "execution_count": 37,
   "id": "e1d1729b",
   "metadata": {},
   "outputs": [],
   "source": [
    "def preProcessing(data, maxLength, tokenizer):    \n",
    "    for tweet in data:\n",
    "        encoded = tokenizer.encode_plus(\n",
    "                    tweet, #Sentence to be tokenized\n",
    "                    add_special_tokens=True, #Adding [CLS] a token added to beggining of the setence\n",
    "                                             #and [SEP] a token added to end of the setence\n",
    "                    max_length=maxLength, #the max size of the setence\n",
    "                    padding='max_length',#pad_to_max_length = True, #Adding [PAD] a token that represents the real sentence(when the setence is  \n",
    "                                              #smaller than the max size the spaces will be completed with this token)                                              \n",
    "                    return_attention_mask=True, #An array of 0 and 1 indicating which tokens are [PAD](space in blank) \n",
    "                                                #and the tokens belonging to the sentence\n",
    "                    return_tensors = 'pt', #Return pytorch tensors(the same as numpy array)\n",
    "        )\n",
    "        \n",
    "        \n",
    "        input_ids.append(encoded['input_ids'])\n",
    "        attention_masks.append(encoded['attention_mask'])\n",
    "    #return np.array(input_ids),np.array(attention_masks)"
   ]
  },
  {
   "cell_type": "code",
   "execution_count": 38,
   "id": "3d8ef9ee",
   "metadata": {},
   "outputs": [],
   "source": [
    "modelPath = \"Model/BertBaseMultUncased\""
   ]
  },
  {
   "cell_type": "code",
   "execution_count": 39,
   "id": "d6409d6d",
   "metadata": {},
   "outputs": [],
   "source": [
    "#Loading locally the bert model\n",
    "bert_tokenizer = BertTokenizer.from_pretrained(modelPath, local_files_only=True, do_lower_case=True)"
   ]
  },
  {
   "cell_type": "markdown",
   "id": "a47ae9e5",
   "metadata": {},
   "source": [
    "PATH = 'models/cased_L-12_H-768_A-12/'\n",
    "tokenizer = BertTokenizer.from_pretrained(PATH, local_files_only=True)"
   ]
  },
  {
   "cell_type": "code",
   "execution_count": 40,
   "id": "ce7dc9e3",
   "metadata": {},
   "outputs": [],
   "source": [
    "input_ids = []\n",
    "attention_masks = []\n",
    "# Tokenizing the senteces of the train dataset\n",
    "preProcessing(x_train.values, 512, bert_tokenizer)\n",
    "#torch.cat concatenate the tensors \n",
    "inputIdTrain = torch.cat(input_ids, dim=0)\n",
    "attentionMaskTrain = torch.cat(attention_masks, dim=0)\n",
    "labelsTrain = torch.tensor(y_train.values)\n",
    "\n",
    "# Print sentence 0, now as a list of IDs.\n",
    "#print('Original: ', x_train[0])\n",
    "#print('Token IDs:', input_ids[0])"
   ]
  },
  {
   "cell_type": "code",
   "execution_count": 41,
   "id": "316bdc9d",
   "metadata": {},
   "outputs": [],
   "source": [
    "input_ids = []\n",
    "attention_masks = []\n",
    "# Tokenizing the senteces of the valid dataset\n",
    "preProcessing(x_valid.values, 512, bert_tokenizer)\n",
    "#torch.cat concatenate the tensors \n",
    "inputIdValid = torch.cat(input_ids, dim=0)\n",
    "attentionMaskValid = torch.cat(attention_masks, dim=0)\n",
    "labelsValid = torch.tensor(y_valid.values)"
   ]
  },
  {
   "cell_type": "code",
   "execution_count": 42,
   "id": "53d674db",
   "metadata": {},
   "outputs": [],
   "source": [
    "from torch.utils.data import TensorDataset, DataLoader, RandomSampler, SequentialSampler"
   ]
  },
  {
   "cell_type": "code",
   "execution_count": 43,
   "id": "75e7f450",
   "metadata": {},
   "outputs": [],
   "source": [
    "#TensorDataset encapsulates the data\n",
    "train_data = TensorDataset(inputIdTrain, attentionMaskTrain, labelsTrain)\n",
    "valid_data = TensorDataset(inputIdValid, attentionMaskValid, labelsValid)"
   ]
  },
  {
   "cell_type": "code",
   "execution_count": 44,
   "id": "3262261e",
   "metadata": {},
   "outputs": [],
   "source": [
    "batch_size = 32\n",
    "\n",
    "# Create the DataLoaders for our training and validation sets.\n",
    "# We'll take training samples in random order. \n",
    "# Dataloders wrap the data to offer a beter perfomance during the iteration\n",
    "train_dataloader = DataLoader(\n",
    "            train_data,  # The training samples.\n",
    "            sampler = RandomSampler(train_data), # Select batches randomly\n",
    "            batch_size = batch_size # Trains with this batch size.\n",
    "        )\n",
    "\n",
    "# For validation the order doesn't matter, so we'll just read them sequentially.\n",
    "valid_dataloader = DataLoader(\n",
    "            valid_data, # The validation samples.\n",
    "            sampler = SequentialSampler(valid_data), # Pull out batches sequentially.\n",
    "            batch_size = batch_size # Evaluate with this batch size.\n",
    "        )"
   ]
  },
  {
   "cell_type": "code",
   "execution_count": 45,
   "id": "e0626b6d",
   "metadata": {},
   "outputs": [
    {
     "name": "stderr",
     "output_type": "stream",
     "text": [
      "Some weights of the model checkpoint at Model/BertBaseMultUncased were not used when initializing BertForSequenceClassification: ['cls.predictions.decoder.weight', 'cls.predictions.transform.dense.bias', 'cls.predictions.bias', 'cls.seq_relationship.weight', 'cls.seq_relationship.bias', 'cls.predictions.transform.LayerNorm.weight', 'cls.predictions.transform.LayerNorm.bias', 'cls.predictions.transform.dense.weight']\n",
      "- This IS expected if you are initializing BertForSequenceClassification from the checkpoint of a model trained on another task or with another architecture (e.g. initializing a BertForSequenceClassification model from a BertForPreTraining model).\n",
      "- This IS NOT expected if you are initializing BertForSequenceClassification from the checkpoint of a model that you expect to be exactly identical (initializing a BertForSequenceClassification model from a BertForSequenceClassification model).\n",
      "Some weights of BertForSequenceClassification were not initialized from the model checkpoint at Model/BertBaseMultUncased and are newly initialized: ['classifier.bias', 'classifier.weight']\n",
      "You should probably TRAIN this model on a down-stream task to be able to use it for predictions and inference.\n"
     ]
    }
   ],
   "source": [
    "bertModel = BertForSequenceClassification.from_pretrained(modelPath, \n",
    "                                                          local_files_only=True, \n",
    "                                                          num_labels = 2, # The number of output labels--2 for binary classification.\n",
    "                                                                          # You can increase this for multi-class tasks.   \n",
    "                                                          output_attentions = False, # Whether the model returns attentions weights.\n",
    "                                                          output_hidden_states = False,)"
   ]
  },
  {
   "cell_type": "markdown",
   "id": "ee11c54b",
   "metadata": {},
   "source": [
    "### Maybe there's a problem to use BertForSequenceClassification for models that have support to Portuguese. \n",
    "### BertModel seems to work fine. It will be neeed for investigation, but to continue the development, i will change to BertModel."
   ]
  },
  {
   "cell_type": "markdown",
   "id": "1f650c6f",
   "metadata": {},
   "source": [
    "# https://github.com/neuralmind-ai/portuguese-bert/issues/19"
   ]
  },
  {
   "cell_type": "code",
   "execution_count": 46,
   "id": "ce118d10",
   "metadata": {},
   "outputs": [],
   "source": [
    "#To run the model in the GPU\n",
    "bertModel.cuda();"
   ]
  },
  {
   "cell_type": "code",
   "execution_count": 47,
   "id": "7b341f28",
   "metadata": {},
   "outputs": [
    {
     "name": "stdout",
     "output_type": "stream",
     "text": [
      "The BERT model has 201 different named parameters.\n",
      "\n",
      "==== Embedding Layer ====\n",
      "\n",
      "bert.embeddings.word_embeddings.weight                  (105879, 768)\n",
      "bert.embeddings.position_embeddings.weight                (512, 768)\n",
      "bert.embeddings.token_type_embeddings.weight                (2, 768)\n",
      "bert.embeddings.LayerNorm.weight                              (768,)\n",
      "bert.embeddings.LayerNorm.bias                                (768,)\n",
      "\n",
      "==== First Transformer ====\n",
      "\n",
      "bert.encoder.layer.0.attention.self.query.weight          (768, 768)\n",
      "bert.encoder.layer.0.attention.self.query.bias                (768,)\n",
      "bert.encoder.layer.0.attention.self.key.weight            (768, 768)\n",
      "bert.encoder.layer.0.attention.self.key.bias                  (768,)\n",
      "bert.encoder.layer.0.attention.self.value.weight          (768, 768)\n",
      "bert.encoder.layer.0.attention.self.value.bias                (768,)\n",
      "bert.encoder.layer.0.attention.output.dense.weight        (768, 768)\n",
      "bert.encoder.layer.0.attention.output.dense.bias              (768,)\n",
      "bert.encoder.layer.0.attention.output.LayerNorm.weight        (768,)\n",
      "bert.encoder.layer.0.attention.output.LayerNorm.bias          (768,)\n",
      "bert.encoder.layer.0.intermediate.dense.weight           (3072, 768)\n",
      "bert.encoder.layer.0.intermediate.dense.bias                 (3072,)\n",
      "bert.encoder.layer.0.output.dense.weight                 (768, 3072)\n",
      "bert.encoder.layer.0.output.dense.bias                        (768,)\n",
      "bert.encoder.layer.0.output.LayerNorm.weight                  (768,)\n",
      "bert.encoder.layer.0.output.LayerNorm.bias                    (768,)\n",
      "\n",
      "==== Output Layer ====\n",
      "\n",
      "bert.pooler.dense.weight                                  (768, 768)\n",
      "bert.pooler.dense.bias                                        (768,)\n",
      "classifier.weight                                           (2, 768)\n",
      "classifier.bias                                                 (2,)\n"
     ]
    }
   ],
   "source": [
    "params = list(bertModel.named_parameters())\n",
    "\n",
    "print('The BERT model has {:} different named parameters.\\n'.format(len(params)))\n",
    "\n",
    "print('==== Embedding Layer ====\\n')\n",
    "\n",
    "for p in params[0:5]:\n",
    "    print(\"{:<55} {:>12}\".format(p[0], str(tuple(p[1].size()))))\n",
    "\n",
    "print('\\n==== First Transformer ====\\n')\n",
    "\n",
    "for p in params[5:21]:\n",
    "    print(\"{:<55} {:>12}\".format(p[0], str(tuple(p[1].size()))))\n",
    "\n",
    "print('\\n==== Output Layer ====\\n')\n",
    "\n",
    "for p in params[-4:]:\n",
    "    print(\"{:<55} {:>12}\".format(p[0], str(tuple(p[1].size()))))"
   ]
  },
  {
   "cell_type": "markdown",
   "id": "26ab9004",
   "metadata": {},
   "source": [
    "##### Recommended value parameters(Bert Paper)\n",
    "##### batch size: 16, 32\n",
    "##### learning rate: 5e-5, 3e-5, 2e-5\n",
    "##### epochs: 2,3,4"
   ]
  },
  {
   "cell_type": "code",
   "execution_count": 48,
   "id": "1d574df3",
   "metadata": {},
   "outputs": [
    {
     "name": "stderr",
     "output_type": "stream",
     "text": [
      "C:\\Users\\Priscila\\AppData\\Local\\Programs\\Python\\Python310\\lib\\site-packages\\transformers\\optimization.py:306: FutureWarning: This implementation of AdamW is deprecated and will be removed in a future version. Use the PyTorch implementation torch.optim.AdamW instead, or set `no_deprecation_warning=True` to disable this warning\n",
      "  warnings.warn(\n"
     ]
    }
   ],
   "source": [
    "# AdamW optimizer reference https://machinelearningmastery.com/adam-optimization-algorithm-for-deep-learning/\n",
    "optimizer = AdamW(bertModel.parameters(),\n",
    "                  lr = 2e-5, # args.learning_rate - default is 5e-5, our notebook had 2e-5\n",
    "                  eps = 1e-8 # args.adam_epsilon  - default is 1e-8.\n",
    "                )"
   ]
  },
  {
   "cell_type": "code",
   "execution_count": 50,
   "id": "40474f42",
   "metadata": {},
   "outputs": [],
   "source": [
    "# Number of training epochs. The BERT authors recommend between 2 and 4. \n",
    "# We chose to run for 4, but we'll see later that this may be over-fitting the\n",
    "# training data.\n",
    "epochs = 4\n",
    "\n",
    "# Total number of training steps is [number of batches] x [number of epochs]. \n",
    "# (Note that this is not the same as the number of training samples).\n",
    "total_steps = len(train_dataloader) * epochs\n",
    "\n",
    "# Create the learning rate scheduler.\n",
    "scheduler = get_linear_schedule_with_warmup(optimizer, \n",
    "                                            num_warmup_steps = 0, # Default value in run_glue.py\n",
    "                                            num_training_steps = total_steps)"
   ]
  },
  {
   "cell_type": "code",
   "execution_count": 51,
   "id": "8c0ca2bc",
   "metadata": {},
   "outputs": [],
   "source": [
    "# Function to calculate the accuracy of our predictions vs labels\n",
    "def flat_accuracy(preds, labels):\n",
    "    pred_flat = np.argmax(preds, axis=1).flatten()\n",
    "    labels_flat = labels.flatten()\n",
    "    return np.sum(pred_flat == labels_flat) / len(labels_flat)"
   ]
  },
  {
   "cell_type": "code",
   "execution_count": 52,
   "id": "d58a5e6f",
   "metadata": {},
   "outputs": [],
   "source": [
    "def format_time(elapsed):\n",
    "    '''\n",
    "    Takes a time in seconds and returns a string hh:mm:ss\n",
    "    '''\n",
    "    # Round to the nearest second.\n",
    "    elapsed_rounded = int(round((elapsed)))\n",
    "    \n",
    "    # Format as hh:mm:ss\n",
    "    return str(datetime.timedelta(seconds=elapsed_rounded))"
   ]
  },
  {
   "cell_type": "code",
   "execution_count": null,
   "id": "faddc122",
   "metadata": {},
   "outputs": [],
   "source": []
  }
 ],
 "metadata": {
  "kernelspec": {
   "display_name": "Python 3 (ipykernel)",
   "language": "python",
   "name": "python3"
  },
  "language_info": {
   "codemirror_mode": {
    "name": "ipython",
    "version": 3
   },
   "file_extension": ".py",
   "mimetype": "text/x-python",
   "name": "python",
   "nbconvert_exporter": "python",
   "pygments_lexer": "ipython3",
   "version": "3.10.5"
  }
 },
 "nbformat": 4,
 "nbformat_minor": 5
}
