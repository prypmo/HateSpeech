{
 "cells": [
  {
   "cell_type": "code",
   "execution_count": 1,
   "id": "6647bb27",
   "metadata": {},
   "outputs": [],
   "source": [
    "import numpy as np\n",
    "import pandas as pd\n",
    "from datetime import datetime"
   ]
  },
  {
   "cell_type": "code",
   "execution_count": null,
   "id": "f31c643c",
   "metadata": {},
   "outputs": [],
   "source": [
    "data_virus = pd.read_csv('./annotated_tweets_w_text.csv')\n",
    "data_virus.head()"
   ]
  },
  {
   "cell_type": "code",
   "execution_count": 35,
   "id": "184dfe5e",
   "metadata": {},
   "outputs": [
    {
     "name": "stderr",
     "output_type": "stream",
     "text": [
      "C:\\Users\\Priscila\\AppData\\Local\\Programs\\Python\\Python310\\lib\\site-packages\\IPython\\core\\interactiveshell.py:3444: DtypeWarning: Columns (8,9,10,11,12,13,14,15) have mixed types.Specify dtype option on import or set low_memory=False.\n",
      "  exec(code_obj, self.user_global_ns, self.user_ns)\n"
     ]
    },
    {
     "data": {
      "text/html": [
       "<div>\n",
       "<style scoped>\n",
       "    .dataframe tbody tr th:only-of-type {\n",
       "        vertical-align: middle;\n",
       "    }\n",
       "\n",
       "    .dataframe tbody tr th {\n",
       "        vertical-align: top;\n",
       "    }\n",
       "\n",
       "    .dataframe thead th {\n",
       "        text-align: right;\n",
       "    }\n",
       "</style>\n",
       "<table border=\"1\" class=\"dataframe\">\n",
       "  <thead>\n",
       "    <tr style=\"text-align: right;\">\n",
       "      <th></th>\n",
       "      <th>Date</th>\n",
       "      <th>User</th>\n",
       "      <th>Tweet</th>\n",
       "      <th>Unnamed: 3</th>\n",
       "      <th>Unnamed: 4</th>\n",
       "      <th>Unnamed: 5</th>\n",
       "      <th>Unnamed: 6</th>\n",
       "      <th>Unnamed: 7</th>\n",
       "      <th>Unnamed: 8</th>\n",
       "      <th>Unnamed: 9</th>\n",
       "      <th>Unnamed: 10</th>\n",
       "      <th>Unnamed: 11</th>\n",
       "      <th>Unnamed: 12</th>\n",
       "      <th>Unnamed: 13</th>\n",
       "      <th>Unnamed: 14</th>\n",
       "      <th>Unnamed: 15</th>\n",
       "    </tr>\n",
       "  </thead>\n",
       "  <tbody>\n",
       "    <tr>\n",
       "      <th>0</th>\n",
       "      <td>2020-06-29 23:59:53</td>\n",
       "      <td>paradino12</td>\n",
       "      <td>puta merda china para de inventar mais covid P...</td>\n",
       "      <td>NaN</td>\n",
       "      <td>NaN</td>\n",
       "      <td>NaN</td>\n",
       "      <td>NaN</td>\n",
       "      <td>NaN</td>\n",
       "      <td>NaN</td>\n",
       "      <td>NaN</td>\n",
       "      <td>NaN</td>\n",
       "      <td>NaN</td>\n",
       "      <td>NaN</td>\n",
       "      <td>NaN</td>\n",
       "      <td>NaN</td>\n",
       "      <td>NaN</td>\n",
       "    </tr>\n",
       "    <tr>\n",
       "      <th>1</th>\n",
       "      <td>2020-06-29 23:59:45</td>\n",
       "      <td>flavinhocastro0</td>\n",
       "      <td>Ainda não encontraram nenhuma vacina para a Co...</td>\n",
       "      <td>NaN</td>\n",
       "      <td>NaN</td>\n",
       "      <td>NaN</td>\n",
       "      <td>NaN</td>\n",
       "      <td>NaN</td>\n",
       "      <td>NaN</td>\n",
       "      <td>NaN</td>\n",
       "      <td>NaN</td>\n",
       "      <td>NaN</td>\n",
       "      <td>NaN</td>\n",
       "      <td>NaN</td>\n",
       "      <td>NaN</td>\n",
       "      <td>NaN</td>\n",
       "    </tr>\n",
       "    <tr>\n",
       "      <th>2</th>\n",
       "      <td>2020-06-29 23:59:39</td>\n",
       "      <td>Apequena_caju</td>\n",
       "      <td>Gente pelo amor de Deus, eu nem me recuperei d...</td>\n",
       "      <td>NaN</td>\n",
       "      <td>NaN</td>\n",
       "      <td>NaN</td>\n",
       "      <td>NaN</td>\n",
       "      <td>NaN</td>\n",
       "      <td>NaN</td>\n",
       "      <td>NaN</td>\n",
       "      <td>NaN</td>\n",
       "      <td>NaN</td>\n",
       "      <td>NaN</td>\n",
       "      <td>NaN</td>\n",
       "      <td>NaN</td>\n",
       "      <td>NaN</td>\n",
       "    </tr>\n",
       "    <tr>\n",
       "      <th>3</th>\n",
       "      <td>2020-06-29 23:59:23</td>\n",
       "      <td>WASHING70434814</td>\n",
       "      <td>#Os grandes culpados por estar acontecendo no ...</td>\n",
       "      <td>NaN</td>\n",
       "      <td>NaN</td>\n",
       "      <td>NaN</td>\n",
       "      <td>NaN</td>\n",
       "      <td>NaN</td>\n",
       "      <td>NaN</td>\n",
       "      <td>NaN</td>\n",
       "      <td>NaN</td>\n",
       "      <td>NaN</td>\n",
       "      <td>NaN</td>\n",
       "      <td>NaN</td>\n",
       "      <td>NaN</td>\n",
       "      <td>NaN</td>\n",
       "    </tr>\n",
       "    <tr>\n",
       "      <th>4</th>\n",
       "      <td>2020-06-29 23:57:23</td>\n",
       "      <td>Lorrayn_ee</td>\n",
       "      <td>@g1 China ??? De novo ???\\n\\nH1n1 china\\n\\nGri...</td>\n",
       "      <td>NaN</td>\n",
       "      <td>NaN</td>\n",
       "      <td>NaN</td>\n",
       "      <td>NaN</td>\n",
       "      <td>NaN</td>\n",
       "      <td>NaN</td>\n",
       "      <td>NaN</td>\n",
       "      <td>NaN</td>\n",
       "      <td>NaN</td>\n",
       "      <td>NaN</td>\n",
       "      <td>NaN</td>\n",
       "      <td>NaN</td>\n",
       "      <td>NaN</td>\n",
       "    </tr>\n",
       "  </tbody>\n",
       "</table>\n",
       "</div>"
      ],
      "text/plain": [
       "                  Date             User  \\\n",
       "0  2020-06-29 23:59:53       paradino12   \n",
       "1  2020-06-29 23:59:45  flavinhocastro0   \n",
       "2  2020-06-29 23:59:39    Apequena_caju   \n",
       "3  2020-06-29 23:59:23  WASHING70434814   \n",
       "4  2020-06-29 23:57:23       Lorrayn_ee   \n",
       "\n",
       "                                               Tweet Unnamed: 3 Unnamed: 4  \\\n",
       "0  puta merda china para de inventar mais covid P...        NaN        NaN   \n",
       "1  Ainda não encontraram nenhuma vacina para a Co...        NaN        NaN   \n",
       "2  Gente pelo amor de Deus, eu nem me recuperei d...        NaN        NaN   \n",
       "3  #Os grandes culpados por estar acontecendo no ...        NaN        NaN   \n",
       "4  @g1 China ??? De novo ???\\n\\nH1n1 china\\n\\nGri...        NaN        NaN   \n",
       "\n",
       "  Unnamed: 5 Unnamed: 6 Unnamed: 7 Unnamed: 8 Unnamed: 9 Unnamed: 10  \\\n",
       "0        NaN        NaN        NaN        NaN        NaN         NaN   \n",
       "1        NaN        NaN        NaN        NaN        NaN         NaN   \n",
       "2        NaN        NaN        NaN        NaN        NaN         NaN   \n",
       "3        NaN        NaN        NaN        NaN        NaN         NaN   \n",
       "4        NaN        NaN        NaN        NaN        NaN         NaN   \n",
       "\n",
       "  Unnamed: 11 Unnamed: 12 Unnamed: 13 Unnamed: 14 Unnamed: 15  \n",
       "0         NaN         NaN         NaN         NaN         NaN  \n",
       "1         NaN         NaN         NaN         NaN         NaN  \n",
       "2         NaN         NaN         NaN         NaN         NaN  \n",
       "3         NaN         NaN         NaN         NaN         NaN  \n",
       "4         NaN         NaN         NaN         NaN         NaN  "
      ]
     },
     "execution_count": 35,
     "metadata": {},
     "output_type": "execute_result"
    }
   ],
   "source": [
    "data = pd.read_csv('./Twitter_Data.csv') #,parse_dates=[0]\n",
    "data.head()"
   ]
  },
  {
   "cell_type": "code",
   "execution_count": 36,
   "id": "1174d326",
   "metadata": {},
   "outputs": [
    {
     "data": {
      "text/html": [
       "<div>\n",
       "<style scoped>\n",
       "    .dataframe tbody tr th:only-of-type {\n",
       "        vertical-align: middle;\n",
       "    }\n",
       "\n",
       "    .dataframe tbody tr th {\n",
       "        vertical-align: top;\n",
       "    }\n",
       "\n",
       "    .dataframe thead th {\n",
       "        text-align: right;\n",
       "    }\n",
       "</style>\n",
       "<table border=\"1\" class=\"dataframe\">\n",
       "  <thead>\n",
       "    <tr style=\"text-align: right;\">\n",
       "      <th></th>\n",
       "      <th>Date</th>\n",
       "      <th>User</th>\n",
       "      <th>Tweet</th>\n",
       "    </tr>\n",
       "  </thead>\n",
       "  <tbody>\n",
       "    <tr>\n",
       "      <th>0</th>\n",
       "      <td>2020-06-29 23:59:53</td>\n",
       "      <td>paradino12</td>\n",
       "      <td>puta merda china para de inventar mais covid P...</td>\n",
       "    </tr>\n",
       "    <tr>\n",
       "      <th>1</th>\n",
       "      <td>2020-06-29 23:59:45</td>\n",
       "      <td>flavinhocastro0</td>\n",
       "      <td>Ainda não encontraram nenhuma vacina para a Co...</td>\n",
       "    </tr>\n",
       "    <tr>\n",
       "      <th>2</th>\n",
       "      <td>2020-06-29 23:59:39</td>\n",
       "      <td>Apequena_caju</td>\n",
       "      <td>Gente pelo amor de Deus, eu nem me recuperei d...</td>\n",
       "    </tr>\n",
       "    <tr>\n",
       "      <th>3</th>\n",
       "      <td>2020-06-29 23:59:23</td>\n",
       "      <td>WASHING70434814</td>\n",
       "      <td>#Os grandes culpados por estar acontecendo no ...</td>\n",
       "    </tr>\n",
       "    <tr>\n",
       "      <th>4</th>\n",
       "      <td>2020-06-29 23:57:23</td>\n",
       "      <td>Lorrayn_ee</td>\n",
       "      <td>@g1 China ??? De novo ???\\n\\nH1n1 china\\n\\nGri...</td>\n",
       "    </tr>\n",
       "  </tbody>\n",
       "</table>\n",
       "</div>"
      ],
      "text/plain": [
       "                  Date             User  \\\n",
       "0  2020-06-29 23:59:53       paradino12   \n",
       "1  2020-06-29 23:59:45  flavinhocastro0   \n",
       "2  2020-06-29 23:59:39    Apequena_caju   \n",
       "3  2020-06-29 23:59:23  WASHING70434814   \n",
       "4  2020-06-29 23:57:23       Lorrayn_ee   \n",
       "\n",
       "                                               Tweet  \n",
       "0  puta merda china para de inventar mais covid P...  \n",
       "1  Ainda não encontraram nenhuma vacina para a Co...  \n",
       "2  Gente pelo amor de Deus, eu nem me recuperei d...  \n",
       "3  #Os grandes culpados por estar acontecendo no ...  \n",
       "4  @g1 China ??? De novo ???\\n\\nH1n1 china\\n\\nGri...  "
      ]
     },
     "execution_count": 36,
     "metadata": {},
     "output_type": "execute_result"
    }
   ],
   "source": [
    "data = data[['Date','User', 'Tweet']]\n",
    "data.head()"
   ]
  },
  {
   "cell_type": "code",
   "execution_count": 37,
   "id": "3d7da922",
   "metadata": {},
   "outputs": [
    {
     "name": "stdout",
     "output_type": "stream",
     "text": [
      "<class 'pandas.core.frame.DataFrame'>\n",
      "RangeIndex: 117316 entries, 0 to 117315\n",
      "Data columns (total 3 columns):\n",
      " #   Column  Non-Null Count   Dtype \n",
      "---  ------  --------------   ----- \n",
      " 0   Date    117316 non-null  object\n",
      " 1   User    117316 non-null  object\n",
      " 2   Tweet   117316 non-null  object\n",
      "dtypes: object(3)\n",
      "memory usage: 2.7+ MB\n"
     ]
    }
   ],
   "source": [
    "data.info()"
   ]
  },
  {
   "cell_type": "code",
   "execution_count": 38,
   "id": "586bdc76",
   "metadata": {},
   "outputs": [
    {
     "data": {
      "text/html": [
       "<div>\n",
       "<style scoped>\n",
       "    .dataframe tbody tr th:only-of-type {\n",
       "        vertical-align: middle;\n",
       "    }\n",
       "\n",
       "    .dataframe tbody tr th {\n",
       "        vertical-align: top;\n",
       "    }\n",
       "\n",
       "    .dataframe thead th {\n",
       "        text-align: right;\n",
       "    }\n",
       "</style>\n",
       "<table border=\"1\" class=\"dataframe\">\n",
       "  <thead>\n",
       "    <tr style=\"text-align: right;\">\n",
       "      <th></th>\n",
       "      <th>Date</th>\n",
       "      <th>User</th>\n",
       "      <th>Tweet</th>\n",
       "      <th>Date_</th>\n",
       "    </tr>\n",
       "  </thead>\n",
       "  <tbody>\n",
       "    <tr>\n",
       "      <th>0</th>\n",
       "      <td>2020-06-29 23:59:53</td>\n",
       "      <td>paradino12</td>\n",
       "      <td>puta merda china para de inventar mais covid P...</td>\n",
       "      <td>06/29/2020</td>\n",
       "    </tr>\n",
       "    <tr>\n",
       "      <th>1</th>\n",
       "      <td>2020-06-29 23:59:45</td>\n",
       "      <td>flavinhocastro0</td>\n",
       "      <td>Ainda não encontraram nenhuma vacina para a Co...</td>\n",
       "      <td>06/29/2020</td>\n",
       "    </tr>\n",
       "    <tr>\n",
       "      <th>2</th>\n",
       "      <td>2020-06-29 23:59:39</td>\n",
       "      <td>Apequena_caju</td>\n",
       "      <td>Gente pelo amor de Deus, eu nem me recuperei d...</td>\n",
       "      <td>06/29/2020</td>\n",
       "    </tr>\n",
       "    <tr>\n",
       "      <th>3</th>\n",
       "      <td>2020-06-29 23:59:23</td>\n",
       "      <td>WASHING70434814</td>\n",
       "      <td>#Os grandes culpados por estar acontecendo no ...</td>\n",
       "      <td>06/29/2020</td>\n",
       "    </tr>\n",
       "    <tr>\n",
       "      <th>4</th>\n",
       "      <td>2020-06-29 23:57:23</td>\n",
       "      <td>Lorrayn_ee</td>\n",
       "      <td>@g1 China ??? De novo ???\\n\\nH1n1 china\\n\\nGri...</td>\n",
       "      <td>06/29/2020</td>\n",
       "    </tr>\n",
       "  </tbody>\n",
       "</table>\n",
       "</div>"
      ],
      "text/plain": [
       "                  Date             User  \\\n",
       "0  2020-06-29 23:59:53       paradino12   \n",
       "1  2020-06-29 23:59:45  flavinhocastro0   \n",
       "2  2020-06-29 23:59:39    Apequena_caju   \n",
       "3  2020-06-29 23:59:23  WASHING70434814   \n",
       "4  2020-06-29 23:57:23       Lorrayn_ee   \n",
       "\n",
       "                                               Tweet       Date_  \n",
       "0  puta merda china para de inventar mais covid P...  06/29/2020  \n",
       "1  Ainda não encontraram nenhuma vacina para a Co...  06/29/2020  \n",
       "2  Gente pelo amor de Deus, eu nem me recuperei d...  06/29/2020  \n",
       "3  #Os grandes culpados por estar acontecendo no ...  06/29/2020  \n",
       "4  @g1 China ??? De novo ???\\n\\nH1n1 china\\n\\nGri...  06/29/2020  "
      ]
     },
     "execution_count": 38,
     "metadata": {},
     "output_type": "execute_result"
    }
   ],
   "source": [
    "data['Date_'] = pd.to_datetime(data['Date'])\n",
    "data['Date_'] = data['Date_'].dt.strftime('%m/%d/%Y')\n",
    "data.head()"
   ]
  },
  {
   "cell_type": "code",
   "execution_count": 39,
   "id": "8cd63479",
   "metadata": {},
   "outputs": [
    {
     "data": {
      "text/html": [
       "<div>\n",
       "<style scoped>\n",
       "    .dataframe tbody tr th:only-of-type {\n",
       "        vertical-align: middle;\n",
       "    }\n",
       "\n",
       "    .dataframe tbody tr th {\n",
       "        vertical-align: top;\n",
       "    }\n",
       "\n",
       "    .dataframe thead th {\n",
       "        text-align: right;\n",
       "    }\n",
       "</style>\n",
       "<table border=\"1\" class=\"dataframe\">\n",
       "  <thead>\n",
       "    <tr style=\"text-align: right;\">\n",
       "      <th></th>\n",
       "      <th>Date</th>\n",
       "      <th>User</th>\n",
       "      <th>Tweet</th>\n",
       "      <th>Date_</th>\n",
       "      <th>Time_</th>\n",
       "    </tr>\n",
       "  </thead>\n",
       "  <tbody>\n",
       "    <tr>\n",
       "      <th>0</th>\n",
       "      <td>2020-06-29 23:59:53</td>\n",
       "      <td>paradino12</td>\n",
       "      <td>puta merda china para de inventar mais covid P...</td>\n",
       "      <td>06/29/2020</td>\n",
       "      <td>23:59:53</td>\n",
       "    </tr>\n",
       "    <tr>\n",
       "      <th>1</th>\n",
       "      <td>2020-06-29 23:59:45</td>\n",
       "      <td>flavinhocastro0</td>\n",
       "      <td>Ainda não encontraram nenhuma vacina para a Co...</td>\n",
       "      <td>06/29/2020</td>\n",
       "      <td>23:59:45</td>\n",
       "    </tr>\n",
       "    <tr>\n",
       "      <th>2</th>\n",
       "      <td>2020-06-29 23:59:39</td>\n",
       "      <td>Apequena_caju</td>\n",
       "      <td>Gente pelo amor de Deus, eu nem me recuperei d...</td>\n",
       "      <td>06/29/2020</td>\n",
       "      <td>23:59:39</td>\n",
       "    </tr>\n",
       "    <tr>\n",
       "      <th>3</th>\n",
       "      <td>2020-06-29 23:59:23</td>\n",
       "      <td>WASHING70434814</td>\n",
       "      <td>#Os grandes culpados por estar acontecendo no ...</td>\n",
       "      <td>06/29/2020</td>\n",
       "      <td>23:59:23</td>\n",
       "    </tr>\n",
       "    <tr>\n",
       "      <th>4</th>\n",
       "      <td>2020-06-29 23:57:23</td>\n",
       "      <td>Lorrayn_ee</td>\n",
       "      <td>@g1 China ??? De novo ???\\n\\nH1n1 china\\n\\nGri...</td>\n",
       "      <td>06/29/2020</td>\n",
       "      <td>23:57:23</td>\n",
       "    </tr>\n",
       "  </tbody>\n",
       "</table>\n",
       "</div>"
      ],
      "text/plain": [
       "                  Date             User  \\\n",
       "0  2020-06-29 23:59:53       paradino12   \n",
       "1  2020-06-29 23:59:45  flavinhocastro0   \n",
       "2  2020-06-29 23:59:39    Apequena_caju   \n",
       "3  2020-06-29 23:59:23  WASHING70434814   \n",
       "4  2020-06-29 23:57:23       Lorrayn_ee   \n",
       "\n",
       "                                               Tweet       Date_     Time_  \n",
       "0  puta merda china para de inventar mais covid P...  06/29/2020  23:59:53  \n",
       "1  Ainda não encontraram nenhuma vacina para a Co...  06/29/2020  23:59:45  \n",
       "2  Gente pelo amor de Deus, eu nem me recuperei d...  06/29/2020  23:59:39  \n",
       "3  #Os grandes culpados por estar acontecendo no ...  06/29/2020  23:59:23  \n",
       "4  @g1 China ??? De novo ???\\n\\nH1n1 china\\n\\nGri...  06/29/2020  23:57:23  "
      ]
     },
     "execution_count": 39,
     "metadata": {},
     "output_type": "execute_result"
    }
   ],
   "source": [
    "data['Time_'] = pd.to_datetime(data['Date'])\n",
    "data['Time_'] = data['Time_'].dt.strftime('%H:%M:%S')\n",
    "data.head()"
   ]
  },
  {
   "cell_type": "code",
   "execution_count": 40,
   "id": "657b7c59",
   "metadata": {},
   "outputs": [
    {
     "data": {
      "text/html": [
       "<div>\n",
       "<style scoped>\n",
       "    .dataframe tbody tr th:only-of-type {\n",
       "        vertical-align: middle;\n",
       "    }\n",
       "\n",
       "    .dataframe tbody tr th {\n",
       "        vertical-align: top;\n",
       "    }\n",
       "\n",
       "    .dataframe thead th {\n",
       "        text-align: right;\n",
       "    }\n",
       "</style>\n",
       "<table border=\"1\" class=\"dataframe\">\n",
       "  <thead>\n",
       "    <tr style=\"text-align: right;\">\n",
       "      <th></th>\n",
       "      <th>Date_</th>\n",
       "      <th>Time_</th>\n",
       "      <th>User</th>\n",
       "      <th>Tweet</th>\n",
       "    </tr>\n",
       "  </thead>\n",
       "  <tbody>\n",
       "    <tr>\n",
       "      <th>0</th>\n",
       "      <td>06/29/2020</td>\n",
       "      <td>23:59:53</td>\n",
       "      <td>paradino12</td>\n",
       "      <td>puta merda china para de inventar mais covid P...</td>\n",
       "    </tr>\n",
       "    <tr>\n",
       "      <th>1</th>\n",
       "      <td>06/29/2020</td>\n",
       "      <td>23:59:45</td>\n",
       "      <td>flavinhocastro0</td>\n",
       "      <td>Ainda não encontraram nenhuma vacina para a Co...</td>\n",
       "    </tr>\n",
       "    <tr>\n",
       "      <th>2</th>\n",
       "      <td>06/29/2020</td>\n",
       "      <td>23:59:39</td>\n",
       "      <td>Apequena_caju</td>\n",
       "      <td>Gente pelo amor de Deus, eu nem me recuperei d...</td>\n",
       "    </tr>\n",
       "    <tr>\n",
       "      <th>3</th>\n",
       "      <td>06/29/2020</td>\n",
       "      <td>23:59:23</td>\n",
       "      <td>WASHING70434814</td>\n",
       "      <td>#Os grandes culpados por estar acontecendo no ...</td>\n",
       "    </tr>\n",
       "    <tr>\n",
       "      <th>4</th>\n",
       "      <td>06/29/2020</td>\n",
       "      <td>23:57:23</td>\n",
       "      <td>Lorrayn_ee</td>\n",
       "      <td>@g1 China ??? De novo ???\\n\\nH1n1 china\\n\\nGri...</td>\n",
       "    </tr>\n",
       "  </tbody>\n",
       "</table>\n",
       "</div>"
      ],
      "text/plain": [
       "        Date_     Time_             User  \\\n",
       "0  06/29/2020  23:59:53       paradino12   \n",
       "1  06/29/2020  23:59:45  flavinhocastro0   \n",
       "2  06/29/2020  23:59:39    Apequena_caju   \n",
       "3  06/29/2020  23:59:23  WASHING70434814   \n",
       "4  06/29/2020  23:57:23       Lorrayn_ee   \n",
       "\n",
       "                                               Tweet  \n",
       "0  puta merda china para de inventar mais covid P...  \n",
       "1  Ainda não encontraram nenhuma vacina para a Co...  \n",
       "2  Gente pelo amor de Deus, eu nem me recuperei d...  \n",
       "3  #Os grandes culpados por estar acontecendo no ...  \n",
       "4  @g1 China ??? De novo ???\\n\\nH1n1 china\\n\\nGri...  "
      ]
     },
     "execution_count": 40,
     "metadata": {},
     "output_type": "execute_result"
    }
   ],
   "source": [
    "data = data[['Date_', 'Time_', 'User', 'Tweet']]\n",
    "data.head()"
   ]
  },
  {
   "cell_type": "code",
   "execution_count": 41,
   "id": "b18ca5c0",
   "metadata": {},
   "outputs": [
    {
     "name": "stdout",
     "output_type": "stream",
     "text": [
      "<class 'pandas.core.frame.DataFrame'>\n",
      "RangeIndex: 117316 entries, 0 to 117315\n",
      "Data columns (total 4 columns):\n",
      " #   Column  Non-Null Count   Dtype \n",
      "---  ------  --------------   ----- \n",
      " 0   Date_   117316 non-null  object\n",
      " 1   Time_   117316 non-null  object\n",
      " 2   User    117316 non-null  object\n",
      " 3   Tweet   117316 non-null  object\n",
      "dtypes: object(4)\n",
      "memory usage: 3.6+ MB\n"
     ]
    }
   ],
   "source": [
    "data.info()"
   ]
  },
  {
   "cell_type": "code",
   "execution_count": 42,
   "id": "f1489938",
   "metadata": {
    "scrolled": true
   },
   "outputs": [],
   "source": [
    "start_date = pd.to_datetime('01/03/2020')\n",
    "date_list = []\n",
    "\n",
    "for j in pd.date_range(start='03/01/2020', end='06/29/2020'):\n",
    "    date_list.append(j.date().strftime('%m/%d/%Y'))"
   ]
  },
  {
   "cell_type": "markdown",
   "id": "c740aa8f",
   "metadata": {},
   "source": [
    "morcego OR china OR xingling OR \\\"pastel de flango\\\" OR chineses OR \\\"virus chines\\\" OR \\\"peste chinesa\\\" OR chinesada"
   ]
  },
  {
   "cell_type": "code",
   "execution_count": 43,
   "id": "4c8b60f6",
   "metadata": {},
   "outputs": [
    {
     "data": {
      "text/plain": [
       "['03/01/2020',\n",
       " '03/02/2020',\n",
       " '03/03/2020',\n",
       " '03/04/2020',\n",
       " '03/05/2020',\n",
       " '03/06/2020',\n",
       " '03/07/2020',\n",
       " '03/08/2020',\n",
       " '03/09/2020',\n",
       " '03/10/2020',\n",
       " '03/11/2020',\n",
       " '03/12/2020',\n",
       " '03/13/2020',\n",
       " '03/14/2020',\n",
       " '03/15/2020',\n",
       " '03/16/2020',\n",
       " '03/17/2020',\n",
       " '03/18/2020',\n",
       " '03/19/2020',\n",
       " '03/20/2020',\n",
       " '03/21/2020',\n",
       " '03/22/2020',\n",
       " '03/23/2020',\n",
       " '03/24/2020',\n",
       " '03/25/2020',\n",
       " '03/26/2020',\n",
       " '03/27/2020',\n",
       " '03/28/2020',\n",
       " '03/29/2020',\n",
       " '03/30/2020',\n",
       " '03/31/2020',\n",
       " '04/01/2020',\n",
       " '04/02/2020',\n",
       " '04/03/2020',\n",
       " '04/04/2020',\n",
       " '04/05/2020',\n",
       " '04/06/2020',\n",
       " '04/07/2020',\n",
       " '04/08/2020',\n",
       " '04/09/2020',\n",
       " '04/10/2020',\n",
       " '04/11/2020',\n",
       " '04/12/2020',\n",
       " '04/13/2020',\n",
       " '04/14/2020',\n",
       " '04/15/2020',\n",
       " '04/16/2020',\n",
       " '04/17/2020',\n",
       " '04/18/2020',\n",
       " '04/19/2020',\n",
       " '04/20/2020',\n",
       " '04/21/2020',\n",
       " '04/22/2020',\n",
       " '04/23/2020',\n",
       " '04/24/2020',\n",
       " '04/25/2020',\n",
       " '04/26/2020',\n",
       " '04/27/2020',\n",
       " '04/28/2020',\n",
       " '04/29/2020',\n",
       " '04/30/2020',\n",
       " '05/01/2020',\n",
       " '05/02/2020',\n",
       " '05/03/2020',\n",
       " '05/04/2020',\n",
       " '05/05/2020',\n",
       " '05/06/2020',\n",
       " '05/07/2020',\n",
       " '05/08/2020',\n",
       " '05/09/2020',\n",
       " '05/10/2020',\n",
       " '05/11/2020',\n",
       " '05/12/2020',\n",
       " '05/13/2020',\n",
       " '05/14/2020',\n",
       " '05/15/2020',\n",
       " '05/16/2020',\n",
       " '05/17/2020',\n",
       " '05/18/2020',\n",
       " '05/19/2020',\n",
       " '05/20/2020',\n",
       " '05/21/2020',\n",
       " '05/22/2020',\n",
       " '05/23/2020',\n",
       " '05/24/2020',\n",
       " '05/25/2020',\n",
       " '05/26/2020',\n",
       " '05/27/2020',\n",
       " '05/28/2020',\n",
       " '05/29/2020',\n",
       " '05/30/2020',\n",
       " '05/31/2020',\n",
       " '06/01/2020',\n",
       " '06/02/2020',\n",
       " '06/03/2020',\n",
       " '06/04/2020',\n",
       " '06/05/2020',\n",
       " '06/06/2020',\n",
       " '06/07/2020',\n",
       " '06/08/2020',\n",
       " '06/09/2020',\n",
       " '06/10/2020',\n",
       " '06/11/2020',\n",
       " '06/12/2020',\n",
       " '06/13/2020',\n",
       " '06/14/2020',\n",
       " '06/15/2020',\n",
       " '06/16/2020',\n",
       " '06/17/2020',\n",
       " '06/18/2020',\n",
       " '06/19/2020',\n",
       " '06/20/2020',\n",
       " '06/21/2020',\n",
       " '06/22/2020',\n",
       " '06/23/2020',\n",
       " '06/24/2020',\n",
       " '06/25/2020',\n",
       " '06/26/2020',\n",
       " '06/27/2020',\n",
       " '06/28/2020',\n",
       " '06/29/2020']"
      ]
     },
     "execution_count": 43,
     "metadata": {},
     "output_type": "execute_result"
    }
   ],
   "source": [
    "date_list"
   ]
  },
  {
   "cell_type": "code",
   "execution_count": 44,
   "id": "070cafbc",
   "metadata": {},
   "outputs": [],
   "source": [
    "df_final = pd.DataFrame()\n",
    "df_final['Date_'] = \"\"\n",
    "df_final['Time_'] = \"\"\n",
    "df_final['User'] = \"\"\n",
    "df_final['Tweet'] = \"\""
   ]
  },
  {
   "cell_type": "code",
   "execution_count": 45,
   "id": "2ec26f4f",
   "metadata": {},
   "outputs": [],
   "source": [
    "for day in date_list:\n",
    "    data_day = data.loc[data['Date_'] == day]\n",
    "    #print(day)\n",
    "    #print(data_day.count())\n",
    "    sample = data_day.sample(n=200)\n",
    "    df_final = df_final.append(sample, ignore_index = True)"
   ]
  },
  {
   "cell_type": "code",
   "execution_count": 46,
   "id": "ffc69e60",
   "metadata": {},
   "outputs": [
    {
     "name": "stdout",
     "output_type": "stream",
     "text": [
      "<class 'pandas.core.frame.DataFrame'>\n",
      "RangeIndex: 24200 entries, 0 to 24199\n",
      "Data columns (total 4 columns):\n",
      " #   Column  Non-Null Count  Dtype \n",
      "---  ------  --------------  ----- \n",
      " 0   Date_   24200 non-null  object\n",
      " 1   Time_   24200 non-null  object\n",
      " 2   User    24200 non-null  object\n",
      " 3   Tweet   24200 non-null  object\n",
      "dtypes: object(4)\n",
      "memory usage: 756.4+ KB\n"
     ]
    }
   ],
   "source": [
    "df_final.info()"
   ]
  },
  {
   "cell_type": "code",
   "execution_count": 47,
   "id": "2db6606e",
   "metadata": {},
   "outputs": [],
   "source": [
    "df_final.to_csv('Tweet_Processed.csv', encoding='utf-8')"
   ]
  },
  {
   "cell_type": "code",
   "execution_count": null,
   "id": "464f84bb",
   "metadata": {},
   "outputs": [],
   "source": [
    "df_final[['Date_', 'Time_']]"
   ]
  },
  {
   "cell_type": "code",
   "execution_count": 25,
   "id": "984149d0",
   "metadata": {},
   "outputs": [
    {
     "data": {
      "text/plain": [
       "855"
      ]
     },
     "execution_count": 25,
     "metadata": {},
     "output_type": "execute_result"
    }
   ],
   "source": [
    "morcego = df_final[\"Tweet\"].str.lower().str.contains('morcego')\n",
    "total_morcego = morcego.sum()\n",
    "total_morcego"
   ]
  },
  {
   "cell_type": "code",
   "execution_count": null,
   "id": "a594aa55",
   "metadata": {},
   "outputs": [],
   "source": [
    "indices = np.where(morcego)[0]"
   ]
  },
  {
   "cell_type": "code",
   "execution_count": null,
   "id": "fca3303e",
   "metadata": {},
   "outputs": [],
   "source": [
    "morcego_excel = data.iloc[indices]\n",
    "morcego_excel.to_csv('morcego.csv',encoding='utf-8-sig')"
   ]
  },
  {
   "cell_type": "code",
   "execution_count": 26,
   "id": "c7762bb7",
   "metadata": {},
   "outputs": [
    {
     "data": {
      "text/plain": [
       "20407"
      ]
     },
     "execution_count": 26,
     "metadata": {},
     "output_type": "execute_result"
    }
   ],
   "source": [
    "china = df_final[\"Tweet\"].str.lower().str.contains('china')\n",
    "total_china = china.sum()\n",
    "total_china"
   ]
  },
  {
   "cell_type": "code",
   "execution_count": 27,
   "id": "5c407eed",
   "metadata": {},
   "outputs": [
    {
     "data": {
      "text/plain": [
       "7"
      ]
     },
     "execution_count": 27,
     "metadata": {},
     "output_type": "execute_result"
    }
   ],
   "source": [
    "xingling = df_final[\"Tweet\"].str.lower().str.contains('xingling')\n",
    "total_xingling = xingling.sum()\n",
    "total_xingling"
   ]
  },
  {
   "cell_type": "code",
   "execution_count": 28,
   "id": "361d68d1",
   "metadata": {},
   "outputs": [
    {
     "data": {
      "text/plain": [
       "32"
      ]
     },
     "execution_count": 28,
     "metadata": {},
     "output_type": "execute_result"
    }
   ],
   "source": [
    "xing_ling = df_final[\"Tweet\"].str.lower().str.contains('xing ling')\n",
    "total_xing_ling = xing_ling.sum()\n",
    "total_xing_ling"
   ]
  },
  {
   "cell_type": "code",
   "execution_count": 29,
   "id": "be2324c1",
   "metadata": {},
   "outputs": [
    {
     "data": {
      "text/plain": [
       "6"
      ]
     },
     "execution_count": 29,
     "metadata": {},
     "output_type": "execute_result"
    }
   ],
   "source": [
    "pastel_flango = df_final[\"Tweet\"].str.lower().str.contains('pastel de flango')\n",
    "total_pastel_flango = pastel_flango.sum()\n",
    "total_pastel_flango"
   ]
  },
  {
   "cell_type": "code",
   "execution_count": 30,
   "id": "57b80dda",
   "metadata": {},
   "outputs": [
    {
     "data": {
      "text/plain": [
       "1970"
      ]
     },
     "execution_count": 30,
     "metadata": {},
     "output_type": "execute_result"
    }
   ],
   "source": [
    "chineses = df_final[\"Tweet\"].str.lower().str.contains('chineses')\n",
    "total_chineses = chineses.sum()\n",
    "total_chineses"
   ]
  },
  {
   "cell_type": "code",
   "execution_count": 31,
   "id": "ce15269e",
   "metadata": {},
   "outputs": [
    {
     "data": {
      "text/plain": [
       "52"
      ]
     },
     "execution_count": 31,
     "metadata": {},
     "output_type": "execute_result"
    }
   ],
   "source": [
    "virus_chines = df_final[\"Tweet\"].str.lower().str.contains('virus chines')\n",
    "total_virus_chines = virus_chines.sum()\n",
    "total_virus_chines"
   ]
  },
  {
   "cell_type": "code",
   "execution_count": 32,
   "id": "589d3f8c",
   "metadata": {},
   "outputs": [
    {
     "data": {
      "text/plain": [
       "97"
      ]
     },
     "execution_count": 32,
     "metadata": {},
     "output_type": "execute_result"
    }
   ],
   "source": [
    "peste_chinesa = df_final[\"Tweet\"].str.lower().str.contains('peste chinesa')\n",
    "total_peste_chinesa = peste_chinesa.sum()\n",
    "total_peste_chinesa"
   ]
  },
  {
   "cell_type": "code",
   "execution_count": 33,
   "id": "4f600220",
   "metadata": {},
   "outputs": [
    {
     "data": {
      "text/plain": [
       "0"
      ]
     },
     "execution_count": 33,
     "metadata": {},
     "output_type": "execute_result"
    }
   ],
   "source": [
    "chinesada = df_final[\"Tweet\"].str.lower().str.contains('chinesada')\n",
    "total_chinesada = chinesada.sum()\n",
    "total_chinesada"
   ]
  },
  {
   "cell_type": "code",
   "execution_count": null,
   "id": "72925616",
   "metadata": {},
   "outputs": [],
   "source": [
    "xing = pd.read_csv('./tweets_xing_ling.csv')\n",
    "xing.head()"
   ]
  },
  {
   "cell_type": "code",
   "execution_count": null,
   "id": "b65ae779",
   "metadata": {},
   "outputs": [],
   "source": [
    "xing.info()"
   ]
  },
  {
   "cell_type": "code",
   "execution_count": null,
   "id": "10caeda6",
   "metadata": {},
   "outputs": [],
   "source": []
  }
 ],
 "metadata": {
  "kernelspec": {
   "display_name": "Python 3 (ipykernel)",
   "language": "python",
   "name": "python3"
  },
  "language_info": {
   "codemirror_mode": {
    "name": "ipython",
    "version": 3
   },
   "file_extension": ".py",
   "mimetype": "text/x-python",
   "name": "python",
   "nbconvert_exporter": "python",
   "pygments_lexer": "ipython3",
   "version": "3.10.5"
  }
 },
 "nbformat": 4,
 "nbformat_minor": 5
}
