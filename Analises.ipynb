{
 "cells": [
  {
   "cell_type": "code",
   "execution_count": 2,
   "id": "6647bb27",
   "metadata": {},
   "outputs": [],
   "source": [
    "import numpy as np\n",
    "import pandas as pd\n",
    "from datetime import datetime"
   ]
  },
  {
   "cell_type": "code",
   "execution_count": null,
   "id": "f31c643c",
   "metadata": {},
   "outputs": [],
   "source": [
    "data_virus = pd.read_csv('./annotated_tweets_w_text.csv')\n",
    "data_virus.head()"
   ]
  },
  {
   "cell_type": "code",
   "execution_count": 3,
   "id": "184dfe5e",
   "metadata": {},
   "outputs": [
    {
     "ename": "FileNotFoundError",
     "evalue": "[Errno 2] No such file or directory: './Twitter_Data.csv'",
     "output_type": "error",
     "traceback": [
      "\u001b[1;31m---------------------------------------------------------------------------\u001b[0m",
      "\u001b[1;31mFileNotFoundError\u001b[0m                         Traceback (most recent call last)",
      "\u001b[1;32m~\\AppData\\Local\\Temp/ipykernel_7496/3279146669.py\u001b[0m in \u001b[0;36m<module>\u001b[1;34m\u001b[0m\n\u001b[1;32m----> 1\u001b[1;33m \u001b[0mdata\u001b[0m \u001b[1;33m=\u001b[0m \u001b[0mpd\u001b[0m\u001b[1;33m.\u001b[0m\u001b[0mread_csv\u001b[0m\u001b[1;33m(\u001b[0m\u001b[1;34m'./Twitter_Data.csv'\u001b[0m\u001b[1;33m)\u001b[0m \u001b[1;31m#,parse_dates=[0]\u001b[0m\u001b[1;33m\u001b[0m\u001b[1;33m\u001b[0m\u001b[0m\n\u001b[0m\u001b[0;32m      2\u001b[0m \u001b[0mdata\u001b[0m\u001b[1;33m.\u001b[0m\u001b[0mhead\u001b[0m\u001b[1;33m(\u001b[0m\u001b[1;33m)\u001b[0m\u001b[1;33m\u001b[0m\u001b[1;33m\u001b[0m\u001b[0m\n",
      "\u001b[1;32m~\\AppData\\Local\\Programs\\Python\\Python310\\lib\\site-packages\\pandas\\util\\_decorators.py\u001b[0m in \u001b[0;36mwrapper\u001b[1;34m(*args, **kwargs)\u001b[0m\n\u001b[0;32m    309\u001b[0m                     \u001b[0mstacklevel\u001b[0m\u001b[1;33m=\u001b[0m\u001b[0mstacklevel\u001b[0m\u001b[1;33m,\u001b[0m\u001b[1;33m\u001b[0m\u001b[1;33m\u001b[0m\u001b[0m\n\u001b[0;32m    310\u001b[0m                 )\n\u001b[1;32m--> 311\u001b[1;33m             \u001b[1;32mreturn\u001b[0m \u001b[0mfunc\u001b[0m\u001b[1;33m(\u001b[0m\u001b[1;33m*\u001b[0m\u001b[0margs\u001b[0m\u001b[1;33m,\u001b[0m \u001b[1;33m**\u001b[0m\u001b[0mkwargs\u001b[0m\u001b[1;33m)\u001b[0m\u001b[1;33m\u001b[0m\u001b[1;33m\u001b[0m\u001b[0m\n\u001b[0m\u001b[0;32m    312\u001b[0m \u001b[1;33m\u001b[0m\u001b[0m\n\u001b[0;32m    313\u001b[0m         \u001b[1;32mreturn\u001b[0m \u001b[0mwrapper\u001b[0m\u001b[1;33m\u001b[0m\u001b[1;33m\u001b[0m\u001b[0m\n",
      "\u001b[1;32m~\\AppData\\Local\\Programs\\Python\\Python310\\lib\\site-packages\\pandas\\io\\parsers\\readers.py\u001b[0m in \u001b[0;36mread_csv\u001b[1;34m(filepath_or_buffer, sep, delimiter, header, names, index_col, usecols, squeeze, prefix, mangle_dupe_cols, dtype, engine, converters, true_values, false_values, skipinitialspace, skiprows, skipfooter, nrows, na_values, keep_default_na, na_filter, verbose, skip_blank_lines, parse_dates, infer_datetime_format, keep_date_col, date_parser, dayfirst, cache_dates, iterator, chunksize, compression, thousands, decimal, lineterminator, quotechar, quoting, doublequote, escapechar, comment, encoding, encoding_errors, dialect, error_bad_lines, warn_bad_lines, on_bad_lines, delim_whitespace, low_memory, memory_map, float_precision, storage_options)\u001b[0m\n\u001b[0;32m    584\u001b[0m     \u001b[0mkwds\u001b[0m\u001b[1;33m.\u001b[0m\u001b[0mupdate\u001b[0m\u001b[1;33m(\u001b[0m\u001b[0mkwds_defaults\u001b[0m\u001b[1;33m)\u001b[0m\u001b[1;33m\u001b[0m\u001b[1;33m\u001b[0m\u001b[0m\n\u001b[0;32m    585\u001b[0m \u001b[1;33m\u001b[0m\u001b[0m\n\u001b[1;32m--> 586\u001b[1;33m     \u001b[1;32mreturn\u001b[0m \u001b[0m_read\u001b[0m\u001b[1;33m(\u001b[0m\u001b[0mfilepath_or_buffer\u001b[0m\u001b[1;33m,\u001b[0m \u001b[0mkwds\u001b[0m\u001b[1;33m)\u001b[0m\u001b[1;33m\u001b[0m\u001b[1;33m\u001b[0m\u001b[0m\n\u001b[0m\u001b[0;32m    587\u001b[0m \u001b[1;33m\u001b[0m\u001b[0m\n\u001b[0;32m    588\u001b[0m \u001b[1;33m\u001b[0m\u001b[0m\n",
      "\u001b[1;32m~\\AppData\\Local\\Programs\\Python\\Python310\\lib\\site-packages\\pandas\\io\\parsers\\readers.py\u001b[0m in \u001b[0;36m_read\u001b[1;34m(filepath_or_buffer, kwds)\u001b[0m\n\u001b[0;32m    480\u001b[0m \u001b[1;33m\u001b[0m\u001b[0m\n\u001b[0;32m    481\u001b[0m     \u001b[1;31m# Create the parser.\u001b[0m\u001b[1;33m\u001b[0m\u001b[1;33m\u001b[0m\u001b[0m\n\u001b[1;32m--> 482\u001b[1;33m     \u001b[0mparser\u001b[0m \u001b[1;33m=\u001b[0m \u001b[0mTextFileReader\u001b[0m\u001b[1;33m(\u001b[0m\u001b[0mfilepath_or_buffer\u001b[0m\u001b[1;33m,\u001b[0m \u001b[1;33m**\u001b[0m\u001b[0mkwds\u001b[0m\u001b[1;33m)\u001b[0m\u001b[1;33m\u001b[0m\u001b[1;33m\u001b[0m\u001b[0m\n\u001b[0m\u001b[0;32m    483\u001b[0m \u001b[1;33m\u001b[0m\u001b[0m\n\u001b[0;32m    484\u001b[0m     \u001b[1;32mif\u001b[0m \u001b[0mchunksize\u001b[0m \u001b[1;32mor\u001b[0m \u001b[0miterator\u001b[0m\u001b[1;33m:\u001b[0m\u001b[1;33m\u001b[0m\u001b[1;33m\u001b[0m\u001b[0m\n",
      "\u001b[1;32m~\\AppData\\Local\\Programs\\Python\\Python310\\lib\\site-packages\\pandas\\io\\parsers\\readers.py\u001b[0m in \u001b[0;36m__init__\u001b[1;34m(self, f, engine, **kwds)\u001b[0m\n\u001b[0;32m    809\u001b[0m             \u001b[0mself\u001b[0m\u001b[1;33m.\u001b[0m\u001b[0moptions\u001b[0m\u001b[1;33m[\u001b[0m\u001b[1;34m\"has_index_names\"\u001b[0m\u001b[1;33m]\u001b[0m \u001b[1;33m=\u001b[0m \u001b[0mkwds\u001b[0m\u001b[1;33m[\u001b[0m\u001b[1;34m\"has_index_names\"\u001b[0m\u001b[1;33m]\u001b[0m\u001b[1;33m\u001b[0m\u001b[1;33m\u001b[0m\u001b[0m\n\u001b[0;32m    810\u001b[0m \u001b[1;33m\u001b[0m\u001b[0m\n\u001b[1;32m--> 811\u001b[1;33m         \u001b[0mself\u001b[0m\u001b[1;33m.\u001b[0m\u001b[0m_engine\u001b[0m \u001b[1;33m=\u001b[0m \u001b[0mself\u001b[0m\u001b[1;33m.\u001b[0m\u001b[0m_make_engine\u001b[0m\u001b[1;33m(\u001b[0m\u001b[0mself\u001b[0m\u001b[1;33m.\u001b[0m\u001b[0mengine\u001b[0m\u001b[1;33m)\u001b[0m\u001b[1;33m\u001b[0m\u001b[1;33m\u001b[0m\u001b[0m\n\u001b[0m\u001b[0;32m    812\u001b[0m \u001b[1;33m\u001b[0m\u001b[0m\n\u001b[0;32m    813\u001b[0m     \u001b[1;32mdef\u001b[0m \u001b[0mclose\u001b[0m\u001b[1;33m(\u001b[0m\u001b[0mself\u001b[0m\u001b[1;33m)\u001b[0m\u001b[1;33m:\u001b[0m\u001b[1;33m\u001b[0m\u001b[1;33m\u001b[0m\u001b[0m\n",
      "\u001b[1;32m~\\AppData\\Local\\Programs\\Python\\Python310\\lib\\site-packages\\pandas\\io\\parsers\\readers.py\u001b[0m in \u001b[0;36m_make_engine\u001b[1;34m(self, engine)\u001b[0m\n\u001b[0;32m   1038\u001b[0m             )\n\u001b[0;32m   1039\u001b[0m         \u001b[1;31m# error: Too many arguments for \"ParserBase\"\u001b[0m\u001b[1;33m\u001b[0m\u001b[1;33m\u001b[0m\u001b[0m\n\u001b[1;32m-> 1040\u001b[1;33m         \u001b[1;32mreturn\u001b[0m \u001b[0mmapping\u001b[0m\u001b[1;33m[\u001b[0m\u001b[0mengine\u001b[0m\u001b[1;33m]\u001b[0m\u001b[1;33m(\u001b[0m\u001b[0mself\u001b[0m\u001b[1;33m.\u001b[0m\u001b[0mf\u001b[0m\u001b[1;33m,\u001b[0m \u001b[1;33m**\u001b[0m\u001b[0mself\u001b[0m\u001b[1;33m.\u001b[0m\u001b[0moptions\u001b[0m\u001b[1;33m)\u001b[0m  \u001b[1;31m# type: ignore[call-arg]\u001b[0m\u001b[1;33m\u001b[0m\u001b[1;33m\u001b[0m\u001b[0m\n\u001b[0m\u001b[0;32m   1041\u001b[0m \u001b[1;33m\u001b[0m\u001b[0m\n\u001b[0;32m   1042\u001b[0m     \u001b[1;32mdef\u001b[0m \u001b[0m_failover_to_python\u001b[0m\u001b[1;33m(\u001b[0m\u001b[0mself\u001b[0m\u001b[1;33m)\u001b[0m\u001b[1;33m:\u001b[0m\u001b[1;33m\u001b[0m\u001b[1;33m\u001b[0m\u001b[0m\n",
      "\u001b[1;32m~\\AppData\\Local\\Programs\\Python\\Python310\\lib\\site-packages\\pandas\\io\\parsers\\c_parser_wrapper.py\u001b[0m in \u001b[0;36m__init__\u001b[1;34m(self, src, **kwds)\u001b[0m\n\u001b[0;32m     49\u001b[0m \u001b[1;33m\u001b[0m\u001b[0m\n\u001b[0;32m     50\u001b[0m         \u001b[1;31m# open handles\u001b[0m\u001b[1;33m\u001b[0m\u001b[1;33m\u001b[0m\u001b[0m\n\u001b[1;32m---> 51\u001b[1;33m         \u001b[0mself\u001b[0m\u001b[1;33m.\u001b[0m\u001b[0m_open_handles\u001b[0m\u001b[1;33m(\u001b[0m\u001b[0msrc\u001b[0m\u001b[1;33m,\u001b[0m \u001b[0mkwds\u001b[0m\u001b[1;33m)\u001b[0m\u001b[1;33m\u001b[0m\u001b[1;33m\u001b[0m\u001b[0m\n\u001b[0m\u001b[0;32m     52\u001b[0m         \u001b[1;32massert\u001b[0m \u001b[0mself\u001b[0m\u001b[1;33m.\u001b[0m\u001b[0mhandles\u001b[0m \u001b[1;32mis\u001b[0m \u001b[1;32mnot\u001b[0m \u001b[1;32mNone\u001b[0m\u001b[1;33m\u001b[0m\u001b[1;33m\u001b[0m\u001b[0m\n\u001b[0;32m     53\u001b[0m \u001b[1;33m\u001b[0m\u001b[0m\n",
      "\u001b[1;32m~\\AppData\\Local\\Programs\\Python\\Python310\\lib\\site-packages\\pandas\\io\\parsers\\base_parser.py\u001b[0m in \u001b[0;36m_open_handles\u001b[1;34m(self, src, kwds)\u001b[0m\n\u001b[0;32m    220\u001b[0m         \u001b[0mLet\u001b[0m \u001b[0mthe\u001b[0m \u001b[0mreaders\u001b[0m \u001b[0mopen\u001b[0m \u001b[0mIOHandles\u001b[0m \u001b[0mafter\u001b[0m \u001b[0mthey\u001b[0m \u001b[0mare\u001b[0m \u001b[0mdone\u001b[0m \u001b[1;32mwith\u001b[0m \u001b[0mtheir\u001b[0m \u001b[0mpotential\u001b[0m \u001b[0mraises\u001b[0m\u001b[1;33m.\u001b[0m\u001b[1;33m\u001b[0m\u001b[1;33m\u001b[0m\u001b[0m\n\u001b[0;32m    221\u001b[0m         \"\"\"\n\u001b[1;32m--> 222\u001b[1;33m         self.handles = get_handle(\n\u001b[0m\u001b[0;32m    223\u001b[0m             \u001b[0msrc\u001b[0m\u001b[1;33m,\u001b[0m\u001b[1;33m\u001b[0m\u001b[1;33m\u001b[0m\u001b[0m\n\u001b[0;32m    224\u001b[0m             \u001b[1;34m\"r\"\u001b[0m\u001b[1;33m,\u001b[0m\u001b[1;33m\u001b[0m\u001b[1;33m\u001b[0m\u001b[0m\n",
      "\u001b[1;32m~\\AppData\\Local\\Programs\\Python\\Python310\\lib\\site-packages\\pandas\\io\\common.py\u001b[0m in \u001b[0;36mget_handle\u001b[1;34m(path_or_buf, mode, encoding, compression, memory_map, is_text, errors, storage_options)\u001b[0m\n\u001b[0;32m    700\u001b[0m         \u001b[1;32mif\u001b[0m \u001b[0mioargs\u001b[0m\u001b[1;33m.\u001b[0m\u001b[0mencoding\u001b[0m \u001b[1;32mand\u001b[0m \u001b[1;34m\"b\"\u001b[0m \u001b[1;32mnot\u001b[0m \u001b[1;32min\u001b[0m \u001b[0mioargs\u001b[0m\u001b[1;33m.\u001b[0m\u001b[0mmode\u001b[0m\u001b[1;33m:\u001b[0m\u001b[1;33m\u001b[0m\u001b[1;33m\u001b[0m\u001b[0m\n\u001b[0;32m    701\u001b[0m             \u001b[1;31m# Encoding\u001b[0m\u001b[1;33m\u001b[0m\u001b[1;33m\u001b[0m\u001b[0m\n\u001b[1;32m--> 702\u001b[1;33m             handle = open(\n\u001b[0m\u001b[0;32m    703\u001b[0m                 \u001b[0mhandle\u001b[0m\u001b[1;33m,\u001b[0m\u001b[1;33m\u001b[0m\u001b[1;33m\u001b[0m\u001b[0m\n\u001b[0;32m    704\u001b[0m                 \u001b[0mioargs\u001b[0m\u001b[1;33m.\u001b[0m\u001b[0mmode\u001b[0m\u001b[1;33m,\u001b[0m\u001b[1;33m\u001b[0m\u001b[1;33m\u001b[0m\u001b[0m\n",
      "\u001b[1;31mFileNotFoundError\u001b[0m: [Errno 2] No such file or directory: './Twitter_Data.csv'"
     ]
    }
   ],
   "source": [
    "data = pd.read_csv('./Twitter_Data.csv') #,parse_dates=[0]\n",
    "data.head()"
   ]
  },
  {
   "cell_type": "code",
   "execution_count": 36,
   "id": "1174d326",
   "metadata": {},
   "outputs": [
    {
     "data": {
      "text/html": [
       "<div>\n",
       "<style scoped>\n",
       "    .dataframe tbody tr th:only-of-type {\n",
       "        vertical-align: middle;\n",
       "    }\n",
       "\n",
       "    .dataframe tbody tr th {\n",
       "        vertical-align: top;\n",
       "    }\n",
       "\n",
       "    .dataframe thead th {\n",
       "        text-align: right;\n",
       "    }\n",
       "</style>\n",
       "<table border=\"1\" class=\"dataframe\">\n",
       "  <thead>\n",
       "    <tr style=\"text-align: right;\">\n",
       "      <th></th>\n",
       "      <th>Date</th>\n",
       "      <th>User</th>\n",
       "      <th>Tweet</th>\n",
       "    </tr>\n",
       "  </thead>\n",
       "  <tbody>\n",
       "    <tr>\n",
       "      <th>0</th>\n",
       "      <td>2020-06-29 23:59:53</td>\n",
       "      <td>paradino12</td>\n",
       "      <td>puta merda china para de inventar mais covid P...</td>\n",
       "    </tr>\n",
       "    <tr>\n",
       "      <th>1</th>\n",
       "      <td>2020-06-29 23:59:45</td>\n",
       "      <td>flavinhocastro0</td>\n",
       "      <td>Ainda não encontraram nenhuma vacina para a Co...</td>\n",
       "    </tr>\n",
       "    <tr>\n",
       "      <th>2</th>\n",
       "      <td>2020-06-29 23:59:39</td>\n",
       "      <td>Apequena_caju</td>\n",
       "      <td>Gente pelo amor de Deus, eu nem me recuperei d...</td>\n",
       "    </tr>\n",
       "    <tr>\n",
       "      <th>3</th>\n",
       "      <td>2020-06-29 23:59:23</td>\n",
       "      <td>WASHING70434814</td>\n",
       "      <td>#Os grandes culpados por estar acontecendo no ...</td>\n",
       "    </tr>\n",
       "    <tr>\n",
       "      <th>4</th>\n",
       "      <td>2020-06-29 23:57:23</td>\n",
       "      <td>Lorrayn_ee</td>\n",
       "      <td>@g1 China ??? De novo ???\\n\\nH1n1 china\\n\\nGri...</td>\n",
       "    </tr>\n",
       "  </tbody>\n",
       "</table>\n",
       "</div>"
      ],
      "text/plain": [
       "                  Date             User  \\\n",
       "0  2020-06-29 23:59:53       paradino12   \n",
       "1  2020-06-29 23:59:45  flavinhocastro0   \n",
       "2  2020-06-29 23:59:39    Apequena_caju   \n",
       "3  2020-06-29 23:59:23  WASHING70434814   \n",
       "4  2020-06-29 23:57:23       Lorrayn_ee   \n",
       "\n",
       "                                               Tweet  \n",
       "0  puta merda china para de inventar mais covid P...  \n",
       "1  Ainda não encontraram nenhuma vacina para a Co...  \n",
       "2  Gente pelo amor de Deus, eu nem me recuperei d...  \n",
       "3  #Os grandes culpados por estar acontecendo no ...  \n",
       "4  @g1 China ??? De novo ???\\n\\nH1n1 china\\n\\nGri...  "
      ]
     },
     "execution_count": 36,
     "metadata": {},
     "output_type": "execute_result"
    }
   ],
   "source": [
    "data = data[['Date','User', 'Tweet']]\n",
    "data.head()"
   ]
  },
  {
   "cell_type": "code",
   "execution_count": 37,
   "id": "3d7da922",
   "metadata": {},
   "outputs": [
    {
     "name": "stdout",
     "output_type": "stream",
     "text": [
      "<class 'pandas.core.frame.DataFrame'>\n",
      "RangeIndex: 117316 entries, 0 to 117315\n",
      "Data columns (total 3 columns):\n",
      " #   Column  Non-Null Count   Dtype \n",
      "---  ------  --------------   ----- \n",
      " 0   Date    117316 non-null  object\n",
      " 1   User    117316 non-null  object\n",
      " 2   Tweet   117316 non-null  object\n",
      "dtypes: object(3)\n",
      "memory usage: 2.7+ MB\n"
     ]
    }
   ],
   "source": [
    "data.info()"
   ]
  },
  {
   "cell_type": "code",
   "execution_count": 38,
   "id": "586bdc76",
   "metadata": {},
   "outputs": [
    {
     "data": {
      "text/html": [
       "<div>\n",
       "<style scoped>\n",
       "    .dataframe tbody tr th:only-of-type {\n",
       "        vertical-align: middle;\n",
       "    }\n",
       "\n",
       "    .dataframe tbody tr th {\n",
       "        vertical-align: top;\n",
       "    }\n",
       "\n",
       "    .dataframe thead th {\n",
       "        text-align: right;\n",
       "    }\n",
       "</style>\n",
       "<table border=\"1\" class=\"dataframe\">\n",
       "  <thead>\n",
       "    <tr style=\"text-align: right;\">\n",
       "      <th></th>\n",
       "      <th>Date</th>\n",
       "      <th>User</th>\n",
       "      <th>Tweet</th>\n",
       "      <th>Date_</th>\n",
       "    </tr>\n",
       "  </thead>\n",
       "  <tbody>\n",
       "    <tr>\n",
       "      <th>0</th>\n",
       "      <td>2020-06-29 23:59:53</td>\n",
       "      <td>paradino12</td>\n",
       "      <td>puta merda china para de inventar mais covid P...</td>\n",
       "      <td>06/29/2020</td>\n",
       "    </tr>\n",
       "    <tr>\n",
       "      <th>1</th>\n",
       "      <td>2020-06-29 23:59:45</td>\n",
       "      <td>flavinhocastro0</td>\n",
       "      <td>Ainda não encontraram nenhuma vacina para a Co...</td>\n",
       "      <td>06/29/2020</td>\n",
       "    </tr>\n",
       "    <tr>\n",
       "      <th>2</th>\n",
       "      <td>2020-06-29 23:59:39</td>\n",
       "      <td>Apequena_caju</td>\n",
       "      <td>Gente pelo amor de Deus, eu nem me recuperei d...</td>\n",
       "      <td>06/29/2020</td>\n",
       "    </tr>\n",
       "    <tr>\n",
       "      <th>3</th>\n",
       "      <td>2020-06-29 23:59:23</td>\n",
       "      <td>WASHING70434814</td>\n",
       "      <td>#Os grandes culpados por estar acontecendo no ...</td>\n",
       "      <td>06/29/2020</td>\n",
       "    </tr>\n",
       "    <tr>\n",
       "      <th>4</th>\n",
       "      <td>2020-06-29 23:57:23</td>\n",
       "      <td>Lorrayn_ee</td>\n",
       "      <td>@g1 China ??? De novo ???\\n\\nH1n1 china\\n\\nGri...</td>\n",
       "      <td>06/29/2020</td>\n",
       "    </tr>\n",
       "  </tbody>\n",
       "</table>\n",
       "</div>"
      ],
      "text/plain": [
       "                  Date             User  \\\n",
       "0  2020-06-29 23:59:53       paradino12   \n",
       "1  2020-06-29 23:59:45  flavinhocastro0   \n",
       "2  2020-06-29 23:59:39    Apequena_caju   \n",
       "3  2020-06-29 23:59:23  WASHING70434814   \n",
       "4  2020-06-29 23:57:23       Lorrayn_ee   \n",
       "\n",
       "                                               Tweet       Date_  \n",
       "0  puta merda china para de inventar mais covid P...  06/29/2020  \n",
       "1  Ainda não encontraram nenhuma vacina para a Co...  06/29/2020  \n",
       "2  Gente pelo amor de Deus, eu nem me recuperei d...  06/29/2020  \n",
       "3  #Os grandes culpados por estar acontecendo no ...  06/29/2020  \n",
       "4  @g1 China ??? De novo ???\\n\\nH1n1 china\\n\\nGri...  06/29/2020  "
      ]
     },
     "execution_count": 38,
     "metadata": {},
     "output_type": "execute_result"
    }
   ],
   "source": [
    "data['Date_'] = pd.to_datetime(data['Date'])\n",
    "data['Date_'] = data['Date_'].dt.strftime('%m/%d/%Y')\n",
    "data.head()"
   ]
  },
  {
   "cell_type": "code",
   "execution_count": 39,
   "id": "8cd63479",
   "metadata": {},
   "outputs": [
    {
     "data": {
      "text/html": [
       "<div>\n",
       "<style scoped>\n",
       "    .dataframe tbody tr th:only-of-type {\n",
       "        vertical-align: middle;\n",
       "    }\n",
       "\n",
       "    .dataframe tbody tr th {\n",
       "        vertical-align: top;\n",
       "    }\n",
       "\n",
       "    .dataframe thead th {\n",
       "        text-align: right;\n",
       "    }\n",
       "</style>\n",
       "<table border=\"1\" class=\"dataframe\">\n",
       "  <thead>\n",
       "    <tr style=\"text-align: right;\">\n",
       "      <th></th>\n",
       "      <th>Date</th>\n",
       "      <th>User</th>\n",
       "      <th>Tweet</th>\n",
       "      <th>Date_</th>\n",
       "      <th>Time_</th>\n",
       "    </tr>\n",
       "  </thead>\n",
       "  <tbody>\n",
       "    <tr>\n",
       "      <th>0</th>\n",
       "      <td>2020-06-29 23:59:53</td>\n",
       "      <td>paradino12</td>\n",
       "      <td>puta merda china para de inventar mais covid P...</td>\n",
       "      <td>06/29/2020</td>\n",
       "      <td>23:59:53</td>\n",
       "    </tr>\n",
       "    <tr>\n",
       "      <th>1</th>\n",
       "      <td>2020-06-29 23:59:45</td>\n",
       "      <td>flavinhocastro0</td>\n",
       "      <td>Ainda não encontraram nenhuma vacina para a Co...</td>\n",
       "      <td>06/29/2020</td>\n",
       "      <td>23:59:45</td>\n",
       "    </tr>\n",
       "    <tr>\n",
       "      <th>2</th>\n",
       "      <td>2020-06-29 23:59:39</td>\n",
       "      <td>Apequena_caju</td>\n",
       "      <td>Gente pelo amor de Deus, eu nem me recuperei d...</td>\n",
       "      <td>06/29/2020</td>\n",
       "      <td>23:59:39</td>\n",
       "    </tr>\n",
       "    <tr>\n",
       "      <th>3</th>\n",
       "      <td>2020-06-29 23:59:23</td>\n",
       "      <td>WASHING70434814</td>\n",
       "      <td>#Os grandes culpados por estar acontecendo no ...</td>\n",
       "      <td>06/29/2020</td>\n",
       "      <td>23:59:23</td>\n",
       "    </tr>\n",
       "    <tr>\n",
       "      <th>4</th>\n",
       "      <td>2020-06-29 23:57:23</td>\n",
       "      <td>Lorrayn_ee</td>\n",
       "      <td>@g1 China ??? De novo ???\\n\\nH1n1 china\\n\\nGri...</td>\n",
       "      <td>06/29/2020</td>\n",
       "      <td>23:57:23</td>\n",
       "    </tr>\n",
       "  </tbody>\n",
       "</table>\n",
       "</div>"
      ],
      "text/plain": [
       "                  Date             User  \\\n",
       "0  2020-06-29 23:59:53       paradino12   \n",
       "1  2020-06-29 23:59:45  flavinhocastro0   \n",
       "2  2020-06-29 23:59:39    Apequena_caju   \n",
       "3  2020-06-29 23:59:23  WASHING70434814   \n",
       "4  2020-06-29 23:57:23       Lorrayn_ee   \n",
       "\n",
       "                                               Tweet       Date_     Time_  \n",
       "0  puta merda china para de inventar mais covid P...  06/29/2020  23:59:53  \n",
       "1  Ainda não encontraram nenhuma vacina para a Co...  06/29/2020  23:59:45  \n",
       "2  Gente pelo amor de Deus, eu nem me recuperei d...  06/29/2020  23:59:39  \n",
       "3  #Os grandes culpados por estar acontecendo no ...  06/29/2020  23:59:23  \n",
       "4  @g1 China ??? De novo ???\\n\\nH1n1 china\\n\\nGri...  06/29/2020  23:57:23  "
      ]
     },
     "execution_count": 39,
     "metadata": {},
     "output_type": "execute_result"
    }
   ],
   "source": [
    "data['Time_'] = pd.to_datetime(data['Date'])\n",
    "data['Time_'] = data['Time_'].dt.strftime('%H:%M:%S')\n",
    "data.head()"
   ]
  },
  {
   "cell_type": "code",
   "execution_count": 40,
   "id": "657b7c59",
   "metadata": {},
   "outputs": [
    {
     "data": {
      "text/html": [
       "<div>\n",
       "<style scoped>\n",
       "    .dataframe tbody tr th:only-of-type {\n",
       "        vertical-align: middle;\n",
       "    }\n",
       "\n",
       "    .dataframe tbody tr th {\n",
       "        vertical-align: top;\n",
       "    }\n",
       "\n",
       "    .dataframe thead th {\n",
       "        text-align: right;\n",
       "    }\n",
       "</style>\n",
       "<table border=\"1\" class=\"dataframe\">\n",
       "  <thead>\n",
       "    <tr style=\"text-align: right;\">\n",
       "      <th></th>\n",
       "      <th>Date_</th>\n",
       "      <th>Time_</th>\n",
       "      <th>User</th>\n",
       "      <th>Tweet</th>\n",
       "    </tr>\n",
       "  </thead>\n",
       "  <tbody>\n",
       "    <tr>\n",
       "      <th>0</th>\n",
       "      <td>06/29/2020</td>\n",
       "      <td>23:59:53</td>\n",
       "      <td>paradino12</td>\n",
       "      <td>puta merda china para de inventar mais covid P...</td>\n",
       "    </tr>\n",
       "    <tr>\n",
       "      <th>1</th>\n",
       "      <td>06/29/2020</td>\n",
       "      <td>23:59:45</td>\n",
       "      <td>flavinhocastro0</td>\n",
       "      <td>Ainda não encontraram nenhuma vacina para a Co...</td>\n",
       "    </tr>\n",
       "    <tr>\n",
       "      <th>2</th>\n",
       "      <td>06/29/2020</td>\n",
       "      <td>23:59:39</td>\n",
       "      <td>Apequena_caju</td>\n",
       "      <td>Gente pelo amor de Deus, eu nem me recuperei d...</td>\n",
       "    </tr>\n",
       "    <tr>\n",
       "      <th>3</th>\n",
       "      <td>06/29/2020</td>\n",
       "      <td>23:59:23</td>\n",
       "      <td>WASHING70434814</td>\n",
       "      <td>#Os grandes culpados por estar acontecendo no ...</td>\n",
       "    </tr>\n",
       "    <tr>\n",
       "      <th>4</th>\n",
       "      <td>06/29/2020</td>\n",
       "      <td>23:57:23</td>\n",
       "      <td>Lorrayn_ee</td>\n",
       "      <td>@g1 China ??? De novo ???\\n\\nH1n1 china\\n\\nGri...</td>\n",
       "    </tr>\n",
       "  </tbody>\n",
       "</table>\n",
       "</div>"
      ],
      "text/plain": [
       "        Date_     Time_             User  \\\n",
       "0  06/29/2020  23:59:53       paradino12   \n",
       "1  06/29/2020  23:59:45  flavinhocastro0   \n",
       "2  06/29/2020  23:59:39    Apequena_caju   \n",
       "3  06/29/2020  23:59:23  WASHING70434814   \n",
       "4  06/29/2020  23:57:23       Lorrayn_ee   \n",
       "\n",
       "                                               Tweet  \n",
       "0  puta merda china para de inventar mais covid P...  \n",
       "1  Ainda não encontraram nenhuma vacina para a Co...  \n",
       "2  Gente pelo amor de Deus, eu nem me recuperei d...  \n",
       "3  #Os grandes culpados por estar acontecendo no ...  \n",
       "4  @g1 China ??? De novo ???\\n\\nH1n1 china\\n\\nGri...  "
      ]
     },
     "execution_count": 40,
     "metadata": {},
     "output_type": "execute_result"
    }
   ],
   "source": [
    "data = data[['Date_', 'Time_', 'User', 'Tweet']]\n",
    "data.head()"
   ]
  },
  {
   "cell_type": "code",
   "execution_count": 41,
   "id": "b18ca5c0",
   "metadata": {},
   "outputs": [
    {
     "name": "stdout",
     "output_type": "stream",
     "text": [
      "<class 'pandas.core.frame.DataFrame'>\n",
      "RangeIndex: 117316 entries, 0 to 117315\n",
      "Data columns (total 4 columns):\n",
      " #   Column  Non-Null Count   Dtype \n",
      "---  ------  --------------   ----- \n",
      " 0   Date_   117316 non-null  object\n",
      " 1   Time_   117316 non-null  object\n",
      " 2   User    117316 non-null  object\n",
      " 3   Tweet   117316 non-null  object\n",
      "dtypes: object(4)\n",
      "memory usage: 3.6+ MB\n"
     ]
    }
   ],
   "source": [
    "data.info()"
   ]
  },
  {
   "cell_type": "code",
   "execution_count": 42,
   "id": "f1489938",
   "metadata": {
    "scrolled": true
   },
   "outputs": [],
   "source": [
    "start_date = pd.to_datetime('01/03/2020')\n",
    "date_list = []\n",
    "\n",
    "for j in pd.date_range(start='03/01/2020', end='06/29/2020'):\n",
    "    date_list.append(j.date().strftime('%m/%d/%Y'))"
   ]
  },
  {
   "cell_type": "markdown",
   "id": "c740aa8f",
   "metadata": {},
   "source": [
    "morcego OR china OR xingling OR \\\"pastel de flango\\\" OR chineses OR \\\"virus chines\\\" OR \\\"peste chinesa\\\" OR chinesada"
   ]
  },
  {
   "cell_type": "code",
   "execution_count": 43,
   "id": "4c8b60f6",
   "metadata": {},
   "outputs": [
    {
     "data": {
      "text/plain": [
       "['03/01/2020',\n",
       " '03/02/2020',\n",
       " '03/03/2020',\n",
       " '03/04/2020',\n",
       " '03/05/2020',\n",
       " '03/06/2020',\n",
       " '03/07/2020',\n",
       " '03/08/2020',\n",
       " '03/09/2020',\n",
       " '03/10/2020',\n",
       " '03/11/2020',\n",
       " '03/12/2020',\n",
       " '03/13/2020',\n",
       " '03/14/2020',\n",
       " '03/15/2020',\n",
       " '03/16/2020',\n",
       " '03/17/2020',\n",
       " '03/18/2020',\n",
       " '03/19/2020',\n",
       " '03/20/2020',\n",
       " '03/21/2020',\n",
       " '03/22/2020',\n",
       " '03/23/2020',\n",
       " '03/24/2020',\n",
       " '03/25/2020',\n",
       " '03/26/2020',\n",
       " '03/27/2020',\n",
       " '03/28/2020',\n",
       " '03/29/2020',\n",
       " '03/30/2020',\n",
       " '03/31/2020',\n",
       " '04/01/2020',\n",
       " '04/02/2020',\n",
       " '04/03/2020',\n",
       " '04/04/2020',\n",
       " '04/05/2020',\n",
       " '04/06/2020',\n",
       " '04/07/2020',\n",
       " '04/08/2020',\n",
       " '04/09/2020',\n",
       " '04/10/2020',\n",
       " '04/11/2020',\n",
       " '04/12/2020',\n",
       " '04/13/2020',\n",
       " '04/14/2020',\n",
       " '04/15/2020',\n",
       " '04/16/2020',\n",
       " '04/17/2020',\n",
       " '04/18/2020',\n",
       " '04/19/2020',\n",
       " '04/20/2020',\n",
       " '04/21/2020',\n",
       " '04/22/2020',\n",
       " '04/23/2020',\n",
       " '04/24/2020',\n",
       " '04/25/2020',\n",
       " '04/26/2020',\n",
       " '04/27/2020',\n",
       " '04/28/2020',\n",
       " '04/29/2020',\n",
       " '04/30/2020',\n",
       " '05/01/2020',\n",
       " '05/02/2020',\n",
       " '05/03/2020',\n",
       " '05/04/2020',\n",
       " '05/05/2020',\n",
       " '05/06/2020',\n",
       " '05/07/2020',\n",
       " '05/08/2020',\n",
       " '05/09/2020',\n",
       " '05/10/2020',\n",
       " '05/11/2020',\n",
       " '05/12/2020',\n",
       " '05/13/2020',\n",
       " '05/14/2020',\n",
       " '05/15/2020',\n",
       " '05/16/2020',\n",
       " '05/17/2020',\n",
       " '05/18/2020',\n",
       " '05/19/2020',\n",
       " '05/20/2020',\n",
       " '05/21/2020',\n",
       " '05/22/2020',\n",
       " '05/23/2020',\n",
       " '05/24/2020',\n",
       " '05/25/2020',\n",
       " '05/26/2020',\n",
       " '05/27/2020',\n",
       " '05/28/2020',\n",
       " '05/29/2020',\n",
       " '05/30/2020',\n",
       " '05/31/2020',\n",
       " '06/01/2020',\n",
       " '06/02/2020',\n",
       " '06/03/2020',\n",
       " '06/04/2020',\n",
       " '06/05/2020',\n",
       " '06/06/2020',\n",
       " '06/07/2020',\n",
       " '06/08/2020',\n",
       " '06/09/2020',\n",
       " '06/10/2020',\n",
       " '06/11/2020',\n",
       " '06/12/2020',\n",
       " '06/13/2020',\n",
       " '06/14/2020',\n",
       " '06/15/2020',\n",
       " '06/16/2020',\n",
       " '06/17/2020',\n",
       " '06/18/2020',\n",
       " '06/19/2020',\n",
       " '06/20/2020',\n",
       " '06/21/2020',\n",
       " '06/22/2020',\n",
       " '06/23/2020',\n",
       " '06/24/2020',\n",
       " '06/25/2020',\n",
       " '06/26/2020',\n",
       " '06/27/2020',\n",
       " '06/28/2020',\n",
       " '06/29/2020']"
      ]
     },
     "execution_count": 43,
     "metadata": {},
     "output_type": "execute_result"
    }
   ],
   "source": [
    "date_list"
   ]
  },
  {
   "cell_type": "code",
   "execution_count": 44,
   "id": "070cafbc",
   "metadata": {},
   "outputs": [],
   "source": [
    "df_final = pd.DataFrame()\n",
    "df_final['Date_'] = \"\"\n",
    "df_final['Time_'] = \"\"\n",
    "df_final['User'] = \"\"\n",
    "df_final['Tweet'] = \"\""
   ]
  },
  {
   "cell_type": "code",
   "execution_count": 45,
   "id": "2ec26f4f",
   "metadata": {},
   "outputs": [],
   "source": [
    "for day in date_list:\n",
    "    data_day = data.loc[data['Date_'] == day]\n",
    "    #print(day)\n",
    "    #print(data_day.count())\n",
    "    sample = data_day.sample(n=200)\n",
    "    df_final = df_final.append(sample, ignore_index = True)"
   ]
  },
  {
   "cell_type": "code",
   "execution_count": 46,
   "id": "ffc69e60",
   "metadata": {},
   "outputs": [
    {
     "name": "stdout",
     "output_type": "stream",
     "text": [
      "<class 'pandas.core.frame.DataFrame'>\n",
      "RangeIndex: 24200 entries, 0 to 24199\n",
      "Data columns (total 4 columns):\n",
      " #   Column  Non-Null Count  Dtype \n",
      "---  ------  --------------  ----- \n",
      " 0   Date_   24200 non-null  object\n",
      " 1   Time_   24200 non-null  object\n",
      " 2   User    24200 non-null  object\n",
      " 3   Tweet   24200 non-null  object\n",
      "dtypes: object(4)\n",
      "memory usage: 756.4+ KB\n"
     ]
    }
   ],
   "source": [
    "df_final.info()"
   ]
  },
  {
   "cell_type": "code",
   "execution_count": 47,
   "id": "2db6606e",
   "metadata": {},
   "outputs": [],
   "source": [
    "df_final.to_csv('Tweet_Processed.csv', encoding='utf-8')"
   ]
  },
  {
   "cell_type": "code",
   "execution_count": null,
   "id": "464f84bb",
   "metadata": {},
   "outputs": [],
   "source": [
    "df_final[['Date_', 'Time_']]"
   ]
  },
  {
   "cell_type": "code",
   "execution_count": 25,
   "id": "984149d0",
   "metadata": {},
   "outputs": [
    {
     "data": {
      "text/plain": [
       "855"
      ]
     },
     "execution_count": 25,
     "metadata": {},
     "output_type": "execute_result"
    }
   ],
   "source": [
    "morcego = df_final[\"Tweet\"].str.lower().str.contains('morcego')\n",
    "total_morcego = morcego.sum()\n",
    "total_morcego"
   ]
  },
  {
   "cell_type": "code",
   "execution_count": null,
   "id": "a594aa55",
   "metadata": {},
   "outputs": [],
   "source": [
    "indices = np.where(morcego)[0]"
   ]
  },
  {
   "cell_type": "code",
   "execution_count": null,
   "id": "fca3303e",
   "metadata": {},
   "outputs": [],
   "source": [
    "morcego_excel = data.iloc[indices]\n",
    "morcego_excel.to_csv('morcego.csv',encoding='utf-8-sig')"
   ]
  },
  {
   "cell_type": "code",
   "execution_count": 26,
   "id": "c7762bb7",
   "metadata": {},
   "outputs": [
    {
     "data": {
      "text/plain": [
       "20407"
      ]
     },
     "execution_count": 26,
     "metadata": {},
     "output_type": "execute_result"
    }
   ],
   "source": [
    "china = df_final[\"Tweet\"].str.lower().str.contains('china')\n",
    "total_china = china.sum()\n",
    "total_china"
   ]
  },
  {
   "cell_type": "code",
   "execution_count": 27,
   "id": "5c407eed",
   "metadata": {},
   "outputs": [
    {
     "data": {
      "text/plain": [
       "7"
      ]
     },
     "execution_count": 27,
     "metadata": {},
     "output_type": "execute_result"
    }
   ],
   "source": [
    "xingling = df_final[\"Tweet\"].str.lower().str.contains('xingling')\n",
    "total_xingling = xingling.sum()\n",
    "total_xingling"
   ]
  },
  {
   "cell_type": "code",
   "execution_count": 28,
   "id": "361d68d1",
   "metadata": {},
   "outputs": [
    {
     "data": {
      "text/plain": [
       "32"
      ]
     },
     "execution_count": 28,
     "metadata": {},
     "output_type": "execute_result"
    }
   ],
   "source": [
    "xing_ling = df_final[\"Tweet\"].str.lower().str.contains('xing ling')\n",
    "total_xing_ling = xing_ling.sum()\n",
    "total_xing_ling"
   ]
  },
  {
   "cell_type": "code",
   "execution_count": 29,
   "id": "be2324c1",
   "metadata": {},
   "outputs": [
    {
     "data": {
      "text/plain": [
       "6"
      ]
     },
     "execution_count": 29,
     "metadata": {},
     "output_type": "execute_result"
    }
   ],
   "source": [
    "pastel_flango = df_final[\"Tweet\"].str.lower().str.contains('pastel de flango')\n",
    "total_pastel_flango = pastel_flango.sum()\n",
    "total_pastel_flango"
   ]
  },
  {
   "cell_type": "code",
   "execution_count": 30,
   "id": "57b80dda",
   "metadata": {},
   "outputs": [
    {
     "data": {
      "text/plain": [
       "1970"
      ]
     },
     "execution_count": 30,
     "metadata": {},
     "output_type": "execute_result"
    }
   ],
   "source": [
    "chineses = df_final[\"Tweet\"].str.lower().str.contains('chineses')\n",
    "total_chineses = chineses.sum()\n",
    "total_chineses"
   ]
  },
  {
   "cell_type": "code",
   "execution_count": 31,
   "id": "ce15269e",
   "metadata": {},
   "outputs": [
    {
     "data": {
      "text/plain": [
       "52"
      ]
     },
     "execution_count": 31,
     "metadata": {},
     "output_type": "execute_result"
    }
   ],
   "source": [
    "virus_chines = df_final[\"Tweet\"].str.lower().str.contains('virus chines')\n",
    "total_virus_chines = virus_chines.sum()\n",
    "total_virus_chines"
   ]
  },
  {
   "cell_type": "code",
   "execution_count": 32,
   "id": "589d3f8c",
   "metadata": {},
   "outputs": [
    {
     "data": {
      "text/plain": [
       "97"
      ]
     },
     "execution_count": 32,
     "metadata": {},
     "output_type": "execute_result"
    }
   ],
   "source": [
    "peste_chinesa = df_final[\"Tweet\"].str.lower().str.contains('peste chinesa')\n",
    "total_peste_chinesa = peste_chinesa.sum()\n",
    "total_peste_chinesa"
   ]
  },
  {
   "cell_type": "code",
   "execution_count": 33,
   "id": "4f600220",
   "metadata": {},
   "outputs": [
    {
     "data": {
      "text/plain": [
       "0"
      ]
     },
     "execution_count": 33,
     "metadata": {},
     "output_type": "execute_result"
    }
   ],
   "source": [
    "chinesada = df_final[\"Tweet\"].str.lower().str.contains('chinesada')\n",
    "total_chinesada = chinesada.sum()\n",
    "total_chinesada"
   ]
  },
  {
   "cell_type": "code",
   "execution_count": null,
   "id": "72925616",
   "metadata": {},
   "outputs": [],
   "source": [
    "xing = pd.read_csv('./tweets_xing_ling.csv')\n",
    "xing.head()"
   ]
  },
  {
   "cell_type": "code",
   "execution_count": null,
   "id": "b65ae779",
   "metadata": {},
   "outputs": [],
   "source": [
    "xing.info()"
   ]
  },
  {
   "cell_type": "code",
   "execution_count": null,
   "id": "10caeda6",
   "metadata": {},
   "outputs": [],
   "source": []
  }
 ],
 "metadata": {
  "kernelspec": {
   "display_name": "Python 3 (ipykernel)",
   "language": "python",
   "name": "python3"
  },
  "language_info": {
   "codemirror_mode": {
    "name": "ipython",
    "version": 3
   },
   "file_extension": ".py",
   "mimetype": "text/x-python",
   "name": "python",
   "nbconvert_exporter": "python",
   "pygments_lexer": "ipython3",
   "version": "3.10.5"
  }
 },
 "nbformat": 4,
 "nbformat_minor": 5
}
